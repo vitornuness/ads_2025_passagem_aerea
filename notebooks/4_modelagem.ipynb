{
 "cells": [
  {
   "cell_type": "markdown",
   "id": "447560f9",
   "metadata": {},
   "source": [
    "## Importações"
   ]
  },
  {
   "cell_type": "code",
   "execution_count": 85,
   "id": "98b7c90c",
   "metadata": {},
   "outputs": [],
   "source": [
    "import numpy as np\n",
    "import pandas as pd\n",
    "\n",
    "import matplotlib.pyplot as plt\n",
    "import seaborn as sns\n",
    "\n",
    "from sklearn.preprocessing import StandardScaler\n",
    "\n",
    "from sklearn.model_selection import train_test_split\n",
    "import keras\n",
    "from keras import layers\n",
    "\n",
    "import pickle\n",
    "from sklearn.model_selection import GridSearchCV\n",
    "from sklearn.metrics import confusion_matrix, ConfusionMatrixDisplay\n",
    "from sklearn.metrics import accuracy_score\n",
    "from sklearn.metrics import f1_score\n",
    "from sklearn.metrics import precision_score\n",
    "from sklearn.metrics import recall_score\n",
    "\n",
    "pd.options.display.max_columns = None"
   ]
  },
  {
   "cell_type": "markdown",
   "id": "117550c8",
   "metadata": {},
   "source": [
    "## Ler Dados"
   ]
  },
  {
   "cell_type": "markdown",
   "id": "4f37b2f7",
   "metadata": {},
   "source": [
    "### CSV"
   ]
  },
  {
   "cell_type": "code",
   "execution_count": 86,
   "id": "536db531",
   "metadata": {},
   "outputs": [
    {
     "data": {
      "text/plain": [
       "(299999, 23)"
      ]
     },
     "execution_count": 86,
     "metadata": {},
     "output_type": "execute_result"
    }
   ],
   "source": [
    "df = pd.read_csv('../data/arquivo_fe.csv')\n",
    "df.shape"
   ]
  },
  {
   "cell_type": "code",
   "execution_count": 87,
   "id": "5b9eb137",
   "metadata": {},
   "outputs": [
    {
     "data": {
      "text/html": [
       "<div>\n",
       "<style scoped>\n",
       "    .dataframe tbody tr th:only-of-type {\n",
       "        vertical-align: middle;\n",
       "    }\n",
       "\n",
       "    .dataframe tbody tr th {\n",
       "        vertical-align: top;\n",
       "    }\n",
       "\n",
       "    .dataframe thead th {\n",
       "        text-align: right;\n",
       "    }\n",
       "</style>\n",
       "<table border=\"1\" class=\"dataframe\">\n",
       "  <thead>\n",
       "    <tr style=\"text-align: right;\">\n",
       "      <th></th>\n",
       "      <th>startingAirport</th>\n",
       "      <th>destinationAirport</th>\n",
       "      <th>elapsedDays</th>\n",
       "      <th>seatsRemaining</th>\n",
       "      <th>searchDateInDays</th>\n",
       "      <th>flightDateInDays</th>\n",
       "      <th>segment1AirlineName</th>\n",
       "      <th>segment2AirlineName</th>\n",
       "      <th>segment3AirlineName</th>\n",
       "      <th>segment4AirlineName</th>\n",
       "      <th>segment1CabinCode</th>\n",
       "      <th>segment2CabinCode</th>\n",
       "      <th>segment3CabinCode</th>\n",
       "      <th>segment4CabinCode</th>\n",
       "      <th>segment1EquipmentDescription</th>\n",
       "      <th>segment2EquipmentDescription</th>\n",
       "      <th>segment3EquipmentDescription</th>\n",
       "      <th>segment4EquipmentDescription</th>\n",
       "      <th>daysDifferenceBetweenSearchAndFlightDate_mcat</th>\n",
       "      <th>totalTravelDistance_mcat</th>\n",
       "      <th>travelDurationInSeconds_mcat</th>\n",
       "      <th>totalFare</th>\n",
       "      <th>isBasicEconomy_True</th>\n",
       "    </tr>\n",
       "  </thead>\n",
       "  <tbody>\n",
       "    <tr>\n",
       "      <th>0</th>\n",
       "      <td>0.0</td>\n",
       "      <td>1.0</td>\n",
       "      <td>0</td>\n",
       "      <td>9</td>\n",
       "      <td>19098000000000</td>\n",
       "      <td>19099000000000</td>\n",
       "      <td>5.0</td>\n",
       "      <td>-1.0</td>\n",
       "      <td>-1.0</td>\n",
       "      <td>-1.0</td>\n",
       "      <td>1.0</td>\n",
       "      <td>-1.0</td>\n",
       "      <td>-1.0</td>\n",
       "      <td>-1.0</td>\n",
       "      <td>7.0</td>\n",
       "      <td>-1.0</td>\n",
       "      <td>-1.0</td>\n",
       "      <td>-1.0</td>\n",
       "      <td>0.0</td>\n",
       "      <td>2.0</td>\n",
       "      <td>1.0</td>\n",
       "      <td>248.6</td>\n",
       "      <td>0.0</td>\n",
       "    </tr>\n",
       "    <tr>\n",
       "      <th>1</th>\n",
       "      <td>0.0</td>\n",
       "      <td>1.0</td>\n",
       "      <td>0</td>\n",
       "      <td>4</td>\n",
       "      <td>19098000000000</td>\n",
       "      <td>19099000000000</td>\n",
       "      <td>5.0</td>\n",
       "      <td>-1.0</td>\n",
       "      <td>-1.0</td>\n",
       "      <td>-1.0</td>\n",
       "      <td>1.0</td>\n",
       "      <td>-1.0</td>\n",
       "      <td>-1.0</td>\n",
       "      <td>-1.0</td>\n",
       "      <td>7.0</td>\n",
       "      <td>-1.0</td>\n",
       "      <td>-1.0</td>\n",
       "      <td>-1.0</td>\n",
       "      <td>0.0</td>\n",
       "      <td>2.0</td>\n",
       "      <td>1.0</td>\n",
       "      <td>248.6</td>\n",
       "      <td>0.0</td>\n",
       "    </tr>\n",
       "    <tr>\n",
       "      <th>2</th>\n",
       "      <td>0.0</td>\n",
       "      <td>1.0</td>\n",
       "      <td>0</td>\n",
       "      <td>9</td>\n",
       "      <td>19098000000000</td>\n",
       "      <td>19099000000000</td>\n",
       "      <td>5.0</td>\n",
       "      <td>-1.0</td>\n",
       "      <td>-1.0</td>\n",
       "      <td>-1.0</td>\n",
       "      <td>1.0</td>\n",
       "      <td>-1.0</td>\n",
       "      <td>-1.0</td>\n",
       "      <td>-1.0</td>\n",
       "      <td>20.0</td>\n",
       "      <td>-1.0</td>\n",
       "      <td>-1.0</td>\n",
       "      <td>-1.0</td>\n",
       "      <td>0.0</td>\n",
       "      <td>2.0</td>\n",
       "      <td>1.0</td>\n",
       "      <td>248.6</td>\n",
       "      <td>0.0</td>\n",
       "    </tr>\n",
       "    <tr>\n",
       "      <th>3</th>\n",
       "      <td>0.0</td>\n",
       "      <td>1.0</td>\n",
       "      <td>0</td>\n",
       "      <td>8</td>\n",
       "      <td>19098000000000</td>\n",
       "      <td>19099000000000</td>\n",
       "      <td>5.0</td>\n",
       "      <td>-1.0</td>\n",
       "      <td>-1.0</td>\n",
       "      <td>-1.0</td>\n",
       "      <td>1.0</td>\n",
       "      <td>-1.0</td>\n",
       "      <td>-1.0</td>\n",
       "      <td>-1.0</td>\n",
       "      <td>7.0</td>\n",
       "      <td>-1.0</td>\n",
       "      <td>-1.0</td>\n",
       "      <td>-1.0</td>\n",
       "      <td>0.0</td>\n",
       "      <td>2.0</td>\n",
       "      <td>1.0</td>\n",
       "      <td>248.6</td>\n",
       "      <td>0.0</td>\n",
       "    </tr>\n",
       "    <tr>\n",
       "      <th>4</th>\n",
       "      <td>0.0</td>\n",
       "      <td>1.0</td>\n",
       "      <td>0</td>\n",
       "      <td>9</td>\n",
       "      <td>19098000000000</td>\n",
       "      <td>19099000000000</td>\n",
       "      <td>5.0</td>\n",
       "      <td>-1.0</td>\n",
       "      <td>-1.0</td>\n",
       "      <td>-1.0</td>\n",
       "      <td>1.0</td>\n",
       "      <td>-1.0</td>\n",
       "      <td>-1.0</td>\n",
       "      <td>-1.0</td>\n",
       "      <td>7.0</td>\n",
       "      <td>-1.0</td>\n",
       "      <td>-1.0</td>\n",
       "      <td>-1.0</td>\n",
       "      <td>0.0</td>\n",
       "      <td>2.0</td>\n",
       "      <td>1.0</td>\n",
       "      <td>248.6</td>\n",
       "      <td>0.0</td>\n",
       "    </tr>\n",
       "  </tbody>\n",
       "</table>\n",
       "</div>"
      ],
      "text/plain": [
       "   startingAirport  destinationAirport  elapsedDays  seatsRemaining  \\\n",
       "0              0.0                 1.0            0               9   \n",
       "1              0.0                 1.0            0               4   \n",
       "2              0.0                 1.0            0               9   \n",
       "3              0.0                 1.0            0               8   \n",
       "4              0.0                 1.0            0               9   \n",
       "\n",
       "   searchDateInDays  flightDateInDays  segment1AirlineName  \\\n",
       "0    19098000000000    19099000000000                  5.0   \n",
       "1    19098000000000    19099000000000                  5.0   \n",
       "2    19098000000000    19099000000000                  5.0   \n",
       "3    19098000000000    19099000000000                  5.0   \n",
       "4    19098000000000    19099000000000                  5.0   \n",
       "\n",
       "   segment2AirlineName  segment3AirlineName  segment4AirlineName  \\\n",
       "0                 -1.0                 -1.0                 -1.0   \n",
       "1                 -1.0                 -1.0                 -1.0   \n",
       "2                 -1.0                 -1.0                 -1.0   \n",
       "3                 -1.0                 -1.0                 -1.0   \n",
       "4                 -1.0                 -1.0                 -1.0   \n",
       "\n",
       "   segment1CabinCode  segment2CabinCode  segment3CabinCode  segment4CabinCode  \\\n",
       "0                1.0               -1.0               -1.0               -1.0   \n",
       "1                1.0               -1.0               -1.0               -1.0   \n",
       "2                1.0               -1.0               -1.0               -1.0   \n",
       "3                1.0               -1.0               -1.0               -1.0   \n",
       "4                1.0               -1.0               -1.0               -1.0   \n",
       "\n",
       "   segment1EquipmentDescription  segment2EquipmentDescription  \\\n",
       "0                           7.0                          -1.0   \n",
       "1                           7.0                          -1.0   \n",
       "2                          20.0                          -1.0   \n",
       "3                           7.0                          -1.0   \n",
       "4                           7.0                          -1.0   \n",
       "\n",
       "   segment3EquipmentDescription  segment4EquipmentDescription  \\\n",
       "0                          -1.0                          -1.0   \n",
       "1                          -1.0                          -1.0   \n",
       "2                          -1.0                          -1.0   \n",
       "3                          -1.0                          -1.0   \n",
       "4                          -1.0                          -1.0   \n",
       "\n",
       "   daysDifferenceBetweenSearchAndFlightDate_mcat  totalTravelDistance_mcat  \\\n",
       "0                                            0.0                       2.0   \n",
       "1                                            0.0                       2.0   \n",
       "2                                            0.0                       2.0   \n",
       "3                                            0.0                       2.0   \n",
       "4                                            0.0                       2.0   \n",
       "\n",
       "   travelDurationInSeconds_mcat  totalFare  isBasicEconomy_True  \n",
       "0                           1.0      248.6                  0.0  \n",
       "1                           1.0      248.6                  0.0  \n",
       "2                           1.0      248.6                  0.0  \n",
       "3                           1.0      248.6                  0.0  \n",
       "4                           1.0      248.6                  0.0  "
      ]
     },
     "execution_count": 87,
     "metadata": {},
     "output_type": "execute_result"
    }
   ],
   "source": [
    "df.head()"
   ]
  },
  {
   "cell_type": "markdown",
   "id": "99e27890",
   "metadata": {},
   "source": [
    "### Pickle"
   ]
  },
  {
   "cell_type": "code",
   "execution_count": 88,
   "id": "f5ff8237",
   "metadata": {},
   "outputs": [],
   "source": [
    "with open('../pkls/oe.pickle', 'rb') as handle:\n",
    "    oe_enc = pickle.load(handle)\n",
    "\n",
    "with open('../pkls/ohe.pickle', 'rb') as handle:\n",
    "    ohe_enc = pickle.load(handle)"
   ]
  },
  {
   "cell_type": "markdown",
   "id": "872f119f",
   "metadata": {},
   "source": [
    "## Split"
   ]
  },
  {
   "cell_type": "code",
   "execution_count": 89,
   "id": "8f78aaf8",
   "metadata": {},
   "outputs": [],
   "source": [
    "TARGET = 'totalFare'"
   ]
  },
  {
   "cell_type": "code",
   "execution_count": 90,
   "id": "2b676bdf",
   "metadata": {},
   "outputs": [],
   "source": [
    "x = df.copy()\n",
    "y = x.pop(TARGET)"
   ]
  },
  {
   "cell_type": "markdown",
   "id": "e07c7766",
   "metadata": {},
   "source": [
    "### Padronização"
   ]
  },
  {
   "cell_type": "markdown",
   "id": "d9103c8d",
   "metadata": {},
   "source": [
    "Notamos que após a primeira implementação, o loss estava muito alto, então isso pode ter ocorrido pela variação das escalas dos dados."
   ]
  },
  {
   "cell_type": "code",
   "execution_count": 91,
   "id": "4c1a3505",
   "metadata": {},
   "outputs": [],
   "source": [
    "standard = StandardScaler().fit(x)"
   ]
  },
  {
   "cell_type": "code",
   "execution_count": 92,
   "id": "9eed2235",
   "metadata": {},
   "outputs": [],
   "source": [
    "x_standard = standard.transform(x)"
   ]
  },
  {
   "cell_type": "code",
   "execution_count": 93,
   "id": "6ac09b91",
   "metadata": {},
   "outputs": [],
   "source": [
    "x_standard = pd.DataFrame(x_standard)"
   ]
  },
  {
   "cell_type": "code",
   "execution_count": 94,
   "id": "e77fd9be",
   "metadata": {},
   "outputs": [
    {
     "data": {
      "text/html": [
       "<div>\n",
       "<style scoped>\n",
       "    .dataframe tbody tr th:only-of-type {\n",
       "        vertical-align: middle;\n",
       "    }\n",
       "\n",
       "    .dataframe tbody tr th {\n",
       "        vertical-align: top;\n",
       "    }\n",
       "\n",
       "    .dataframe thead th {\n",
       "        text-align: right;\n",
       "    }\n",
       "</style>\n",
       "<table border=\"1\" class=\"dataframe\">\n",
       "  <thead>\n",
       "    <tr style=\"text-align: right;\">\n",
       "      <th></th>\n",
       "      <th>0</th>\n",
       "      <th>1</th>\n",
       "      <th>2</th>\n",
       "      <th>3</th>\n",
       "      <th>4</th>\n",
       "      <th>5</th>\n",
       "      <th>6</th>\n",
       "      <th>7</th>\n",
       "      <th>8</th>\n",
       "      <th>9</th>\n",
       "      <th>10</th>\n",
       "      <th>11</th>\n",
       "      <th>12</th>\n",
       "      <th>13</th>\n",
       "      <th>14</th>\n",
       "      <th>15</th>\n",
       "      <th>16</th>\n",
       "      <th>17</th>\n",
       "      <th>18</th>\n",
       "      <th>19</th>\n",
       "      <th>20</th>\n",
       "      <th>21</th>\n",
       "    </tr>\n",
       "  </thead>\n",
       "  <tbody>\n",
       "    <tr>\n",
       "      <th>0</th>\n",
       "      <td>-1.579472</td>\n",
       "      <td>-1.374752</td>\n",
       "      <td>-0.409786</td>\n",
       "      <td>1.289876</td>\n",
       "      <td>-1.556412</td>\n",
       "      <td>-1.453993</td>\n",
       "      <td>-0.165265</td>\n",
       "      <td>-1.020217</td>\n",
       "      <td>-0.234996</td>\n",
       "      <td>-0.057799</td>\n",
       "      <td>-0.048038</td>\n",
       "      <td>-1.641479</td>\n",
       "      <td>-0.281736</td>\n",
       "      <td>-0.060554</td>\n",
       "      <td>-0.680727</td>\n",
       "      <td>-0.969456</td>\n",
       "      <td>-0.236615</td>\n",
       "      <td>-0.051968</td>\n",
       "      <td>-1.191431</td>\n",
       "      <td>-0.813312</td>\n",
       "      <td>-1.233725</td>\n",
       "      <td>-0.311456</td>\n",
       "    </tr>\n",
       "    <tr>\n",
       "      <th>1</th>\n",
       "      <td>-1.579472</td>\n",
       "      <td>-1.374752</td>\n",
       "      <td>-0.409786</td>\n",
       "      <td>-0.393990</td>\n",
       "      <td>-1.556412</td>\n",
       "      <td>-1.453993</td>\n",
       "      <td>-0.165265</td>\n",
       "      <td>-1.020217</td>\n",
       "      <td>-0.234996</td>\n",
       "      <td>-0.057799</td>\n",
       "      <td>-0.048038</td>\n",
       "      <td>-1.641479</td>\n",
       "      <td>-0.281736</td>\n",
       "      <td>-0.060554</td>\n",
       "      <td>-0.680727</td>\n",
       "      <td>-0.969456</td>\n",
       "      <td>-0.236615</td>\n",
       "      <td>-0.051968</td>\n",
       "      <td>-1.191431</td>\n",
       "      <td>-0.813312</td>\n",
       "      <td>-1.233725</td>\n",
       "      <td>-0.311456</td>\n",
       "    </tr>\n",
       "    <tr>\n",
       "      <th>2</th>\n",
       "      <td>-1.579472</td>\n",
       "      <td>-1.374752</td>\n",
       "      <td>-0.409786</td>\n",
       "      <td>1.289876</td>\n",
       "      <td>-1.556412</td>\n",
       "      <td>-1.453993</td>\n",
       "      <td>-0.165265</td>\n",
       "      <td>-1.020217</td>\n",
       "      <td>-0.234996</td>\n",
       "      <td>-0.057799</td>\n",
       "      <td>-0.048038</td>\n",
       "      <td>-1.641479</td>\n",
       "      <td>-0.281736</td>\n",
       "      <td>-0.060554</td>\n",
       "      <td>0.474148</td>\n",
       "      <td>-0.969456</td>\n",
       "      <td>-0.236615</td>\n",
       "      <td>-0.051968</td>\n",
       "      <td>-1.191431</td>\n",
       "      <td>-0.813312</td>\n",
       "      <td>-1.233725</td>\n",
       "      <td>-0.311456</td>\n",
       "    </tr>\n",
       "    <tr>\n",
       "      <th>3</th>\n",
       "      <td>-1.579472</td>\n",
       "      <td>-1.374752</td>\n",
       "      <td>-0.409786</td>\n",
       "      <td>0.953103</td>\n",
       "      <td>-1.556412</td>\n",
       "      <td>-1.453993</td>\n",
       "      <td>-0.165265</td>\n",
       "      <td>-1.020217</td>\n",
       "      <td>-0.234996</td>\n",
       "      <td>-0.057799</td>\n",
       "      <td>-0.048038</td>\n",
       "      <td>-1.641479</td>\n",
       "      <td>-0.281736</td>\n",
       "      <td>-0.060554</td>\n",
       "      <td>-0.680727</td>\n",
       "      <td>-0.969456</td>\n",
       "      <td>-0.236615</td>\n",
       "      <td>-0.051968</td>\n",
       "      <td>-1.191431</td>\n",
       "      <td>-0.813312</td>\n",
       "      <td>-1.233725</td>\n",
       "      <td>-0.311456</td>\n",
       "    </tr>\n",
       "    <tr>\n",
       "      <th>4</th>\n",
       "      <td>-1.579472</td>\n",
       "      <td>-1.374752</td>\n",
       "      <td>-0.409786</td>\n",
       "      <td>1.289876</td>\n",
       "      <td>-1.556412</td>\n",
       "      <td>-1.453993</td>\n",
       "      <td>-0.165265</td>\n",
       "      <td>-1.020217</td>\n",
       "      <td>-0.234996</td>\n",
       "      <td>-0.057799</td>\n",
       "      <td>-0.048038</td>\n",
       "      <td>-1.641479</td>\n",
       "      <td>-0.281736</td>\n",
       "      <td>-0.060554</td>\n",
       "      <td>-0.680727</td>\n",
       "      <td>-0.969456</td>\n",
       "      <td>-0.236615</td>\n",
       "      <td>-0.051968</td>\n",
       "      <td>-1.191431</td>\n",
       "      <td>-0.813312</td>\n",
       "      <td>-1.233725</td>\n",
       "      <td>-0.311456</td>\n",
       "    </tr>\n",
       "  </tbody>\n",
       "</table>\n",
       "</div>"
      ],
      "text/plain": [
       "         0         1         2         3         4         5         6   \\\n",
       "0 -1.579472 -1.374752 -0.409786  1.289876 -1.556412 -1.453993 -0.165265   \n",
       "1 -1.579472 -1.374752 -0.409786 -0.393990 -1.556412 -1.453993 -0.165265   \n",
       "2 -1.579472 -1.374752 -0.409786  1.289876 -1.556412 -1.453993 -0.165265   \n",
       "3 -1.579472 -1.374752 -0.409786  0.953103 -1.556412 -1.453993 -0.165265   \n",
       "4 -1.579472 -1.374752 -0.409786  1.289876 -1.556412 -1.453993 -0.165265   \n",
       "\n",
       "         7         8         9         10        11        12        13  \\\n",
       "0 -1.020217 -0.234996 -0.057799 -0.048038 -1.641479 -0.281736 -0.060554   \n",
       "1 -1.020217 -0.234996 -0.057799 -0.048038 -1.641479 -0.281736 -0.060554   \n",
       "2 -1.020217 -0.234996 -0.057799 -0.048038 -1.641479 -0.281736 -0.060554   \n",
       "3 -1.020217 -0.234996 -0.057799 -0.048038 -1.641479 -0.281736 -0.060554   \n",
       "4 -1.020217 -0.234996 -0.057799 -0.048038 -1.641479 -0.281736 -0.060554   \n",
       "\n",
       "         14        15        16        17        18        19        20  \\\n",
       "0 -0.680727 -0.969456 -0.236615 -0.051968 -1.191431 -0.813312 -1.233725   \n",
       "1 -0.680727 -0.969456 -0.236615 -0.051968 -1.191431 -0.813312 -1.233725   \n",
       "2  0.474148 -0.969456 -0.236615 -0.051968 -1.191431 -0.813312 -1.233725   \n",
       "3 -0.680727 -0.969456 -0.236615 -0.051968 -1.191431 -0.813312 -1.233725   \n",
       "4 -0.680727 -0.969456 -0.236615 -0.051968 -1.191431 -0.813312 -1.233725   \n",
       "\n",
       "         21  \n",
       "0 -0.311456  \n",
       "1 -0.311456  \n",
       "2 -0.311456  \n",
       "3 -0.311456  \n",
       "4 -0.311456  "
      ]
     },
     "execution_count": 94,
     "metadata": {},
     "output_type": "execute_result"
    }
   ],
   "source": [
    "x_standard.head()"
   ]
  },
  {
   "cell_type": "markdown",
   "id": "ff53d33c",
   "metadata": {},
   "source": [
    "Separamos 33% dos valores para teste."
   ]
  },
  {
   "cell_type": "code",
   "execution_count": 95,
   "id": "c908f057",
   "metadata": {},
   "outputs": [],
   "source": [
    "x_train, x_test, y_train, y_test = train_test_split(x_standard, y, test_size=0.33, random_state=42)"
   ]
  },
  {
   "cell_type": "code",
   "execution_count": 96,
   "id": "b438d5a0",
   "metadata": {},
   "outputs": [
    {
     "data": {
      "text/plain": [
       "((200999, 22), (99000, 22))"
      ]
     },
     "execution_count": 96,
     "metadata": {},
     "output_type": "execute_result"
    }
   ],
   "source": [
    "x_train.shape, x_test.shape"
   ]
  },
  {
   "cell_type": "markdown",
   "id": "2b076db7",
   "metadata": {},
   "source": [
    "## Treinamento"
   ]
  },
  {
   "cell_type": "markdown",
   "id": "662dc106",
   "metadata": {},
   "source": [
    "Criamos 3 modelos para interpretar os dados."
   ]
  },
  {
   "cell_type": "markdown",
   "id": "31d773f5",
   "metadata": {},
   "source": [
    "### Model Alfa"
   ]
  },
  {
   "cell_type": "markdown",
   "id": "45fdcc21",
   "metadata": {},
   "source": [
    "O Model Alfa, possui 1 camada com 22 layers, com base o número de colunas, e a função de ativação relu."
   ]
  },
  {
   "cell_type": "code",
   "execution_count": null,
   "id": "1949a735",
   "metadata": {},
   "outputs": [
    {
     "data": {
      "text/html": [
       "<pre style=\"white-space:pre;overflow-x:auto;line-height:normal;font-family:Menlo,'DejaVu Sans Mono',consolas,'Courier New',monospace\"><span style=\"font-weight: bold\">Model: \"sequential_9\"</span>\n",
       "</pre>\n"
      ],
      "text/plain": [
       "\u001b[1mModel: \"sequential_9\"\u001b[0m\n"
      ]
     },
     "metadata": {},
     "output_type": "display_data"
    },
    {
     "data": {
      "text/html": [
       "<pre style=\"white-space:pre;overflow-x:auto;line-height:normal;font-family:Menlo,'DejaVu Sans Mono',consolas,'Courier New',monospace\">┏━━━━━━━━━━━━━━━━━━━━━━━━━━━━━━━━━┳━━━━━━━━━━━━━━━━━━━━━━━━┳━━━━━━━━━━━━━━━┓\n",
       "┃<span style=\"font-weight: bold\"> Layer (type)                    </span>┃<span style=\"font-weight: bold\"> Output Shape           </span>┃<span style=\"font-weight: bold\">       Param # </span>┃\n",
       "┡━━━━━━━━━━━━━━━━━━━━━━━━━━━━━━━━━╇━━━━━━━━━━━━━━━━━━━━━━━━╇━━━━━━━━━━━━━━━┩\n",
       "│ dense_24 (<span style=\"color: #0087ff; text-decoration-color: #0087ff\">Dense</span>)                │ (<span style=\"color: #00d7ff; text-decoration-color: #00d7ff\">None</span>, <span style=\"color: #00af00; text-decoration-color: #00af00\">128</span>)            │         <span style=\"color: #00af00; text-decoration-color: #00af00\">2,944</span> │\n",
       "├─────────────────────────────────┼────────────────────────┼───────────────┤\n",
       "│ dense_25 (<span style=\"color: #0087ff; text-decoration-color: #0087ff\">Dense</span>)                │ (<span style=\"color: #00d7ff; text-decoration-color: #00d7ff\">None</span>, <span style=\"color: #00af00; text-decoration-color: #00af00\">64</span>)             │         <span style=\"color: #00af00; text-decoration-color: #00af00\">8,256</span> │\n",
       "├─────────────────────────────────┼────────────────────────┼───────────────┤\n",
       "│ dense_26 (<span style=\"color: #0087ff; text-decoration-color: #0087ff\">Dense</span>)                │ (<span style=\"color: #00d7ff; text-decoration-color: #00d7ff\">None</span>, <span style=\"color: #00af00; text-decoration-color: #00af00\">32</span>)             │         <span style=\"color: #00af00; text-decoration-color: #00af00\">2,080</span> │\n",
       "├─────────────────────────────────┼────────────────────────┼───────────────┤\n",
       "│ dense_27 (<span style=\"color: #0087ff; text-decoration-color: #0087ff\">Dense</span>)                │ (<span style=\"color: #00d7ff; text-decoration-color: #00d7ff\">None</span>, <span style=\"color: #00af00; text-decoration-color: #00af00\">1</span>)              │            <span style=\"color: #00af00; text-decoration-color: #00af00\">33</span> │\n",
       "└─────────────────────────────────┴────────────────────────┴───────────────┘\n",
       "</pre>\n"
      ],
      "text/plain": [
       "┏━━━━━━━━━━━━━━━━━━━━━━━━━━━━━━━━━┳━━━━━━━━━━━━━━━━━━━━━━━━┳━━━━━━━━━━━━━━━┓\n",
       "┃\u001b[1m \u001b[0m\u001b[1mLayer (type)                   \u001b[0m\u001b[1m \u001b[0m┃\u001b[1m \u001b[0m\u001b[1mOutput Shape          \u001b[0m\u001b[1m \u001b[0m┃\u001b[1m \u001b[0m\u001b[1m      Param #\u001b[0m\u001b[1m \u001b[0m┃\n",
       "┡━━━━━━━━━━━━━━━━━━━━━━━━━━━━━━━━━╇━━━━━━━━━━━━━━━━━━━━━━━━╇━━━━━━━━━━━━━━━┩\n",
       "│ dense_24 (\u001b[38;5;33mDense\u001b[0m)                │ (\u001b[38;5;45mNone\u001b[0m, \u001b[38;5;34m128\u001b[0m)            │         \u001b[38;5;34m2,944\u001b[0m │\n",
       "├─────────────────────────────────┼────────────────────────┼───────────────┤\n",
       "│ dense_25 (\u001b[38;5;33mDense\u001b[0m)                │ (\u001b[38;5;45mNone\u001b[0m, \u001b[38;5;34m64\u001b[0m)             │         \u001b[38;5;34m8,256\u001b[0m │\n",
       "├─────────────────────────────────┼────────────────────────┼───────────────┤\n",
       "│ dense_26 (\u001b[38;5;33mDense\u001b[0m)                │ (\u001b[38;5;45mNone\u001b[0m, \u001b[38;5;34m32\u001b[0m)             │         \u001b[38;5;34m2,080\u001b[0m │\n",
       "├─────────────────────────────────┼────────────────────────┼───────────────┤\n",
       "│ dense_27 (\u001b[38;5;33mDense\u001b[0m)                │ (\u001b[38;5;45mNone\u001b[0m, \u001b[38;5;34m1\u001b[0m)              │            \u001b[38;5;34m33\u001b[0m │\n",
       "└─────────────────────────────────┴────────────────────────┴───────────────┘\n"
      ]
     },
     "metadata": {},
     "output_type": "display_data"
    },
    {
     "data": {
      "text/html": [
       "<pre style=\"white-space:pre;overflow-x:auto;line-height:normal;font-family:Menlo,'DejaVu Sans Mono',consolas,'Courier New',monospace\"><span style=\"font-weight: bold\"> Total params: </span><span style=\"color: #00af00; text-decoration-color: #00af00\">13,313</span> (52.00 KB)\n",
       "</pre>\n"
      ],
      "text/plain": [
       "\u001b[1m Total params: \u001b[0m\u001b[38;5;34m13,313\u001b[0m (52.00 KB)\n"
      ]
     },
     "metadata": {},
     "output_type": "display_data"
    },
    {
     "data": {
      "text/html": [
       "<pre style=\"white-space:pre;overflow-x:auto;line-height:normal;font-family:Menlo,'DejaVu Sans Mono',consolas,'Courier New',monospace\"><span style=\"font-weight: bold\"> Trainable params: </span><span style=\"color: #00af00; text-decoration-color: #00af00\">13,313</span> (52.00 KB)\n",
       "</pre>\n"
      ],
      "text/plain": [
       "\u001b[1m Trainable params: \u001b[0m\u001b[38;5;34m13,313\u001b[0m (52.00 KB)\n"
      ]
     },
     "metadata": {},
     "output_type": "display_data"
    },
    {
     "data": {
      "text/html": [
       "<pre style=\"white-space:pre;overflow-x:auto;line-height:normal;font-family:Menlo,'DejaVu Sans Mono',consolas,'Courier New',monospace\"><span style=\"font-weight: bold\"> Non-trainable params: </span><span style=\"color: #00af00; text-decoration-color: #00af00\">0</span> (0.00 B)\n",
       "</pre>\n"
      ],
      "text/plain": [
       "\u001b[1m Non-trainable params: \u001b[0m\u001b[38;5;34m0\u001b[0m (0.00 B)\n"
      ]
     },
     "metadata": {},
     "output_type": "display_data"
    }
   ],
   "source": [
    "model_alfa = keras.Sequential(name='Alfa')\n",
    "\n",
    "model_alfa.add(layers.Input(shape=(x_train.shape[1], )))\n",
    "model_alfa.add(layers.Dense(22, activation='relu'))\n",
    "model_alfa.add(layers.Dense(1))\n",
    "\n",
    "model_alfa.summary()"
   ]
  },
  {
   "cell_type": "code",
   "execution_count": 110,
   "id": "d23196f8",
   "metadata": {},
   "outputs": [],
   "source": [
    "model_alfa.compile(loss='mse')"
   ]
  },
  {
   "cell_type": "markdown",
   "id": "fa462c3f",
   "metadata": {},
   "source": [
    "#### 50 épocas"
   ]
  },
  {
   "cell_type": "code",
   "execution_count": null,
   "id": "4407cb2a",
   "metadata": {},
   "outputs": [],
   "source": [
    "history_alfa = model_alfa.fit(x_train, y_train, validation_data=(x_test, y_test), epochs=50, verbose=None)"
   ]
  },
  {
   "cell_type": "markdown",
   "id": "998d5846",
   "metadata": {},
   "source": [
    "Com 50 épocas, o loss foi decaindo, com isso aumentamos para 100, visto que o modelo foi melhorando os resultados."
   ]
  },
  {
   "cell_type": "code",
   "execution_count": 106,
   "id": "252df263",
   "metadata": {},
   "outputs": [
    {
     "data": {
      "text/plain": [
       "[<matplotlib.lines.Line2D at 0x16a5a702f50>]"
      ]
     },
     "execution_count": 106,
     "metadata": {},
     "output_type": "execute_result"
    },
    {
     "data": {
      "image/png": "[encoded data removed]",
      "text/plain": [
       "<Figure size 640x480 with 1 Axes>"
      ]
     },
     "metadata": {},
     "output_type": "display_data"
    }
   ],
   "source": [
    "plt.plot(history_alfa.history['val_loss'])"
   ]
  },
  {
   "cell_type": "markdown",
   "id": "75d7d1d4",
   "metadata": {},
   "source": [
    "#### 100 Épocas"
   ]
  },
  {
   "cell_type": "code",
   "execution_count": null,
   "id": "dd1824a3",
   "metadata": {},
   "outputs": [],
   "source": [
    "history_alfa = model_alfa.fit(x_train, y_train, validation_data=(x_test, y_test), epochs=100, verbose=None)"
   ]
  },
  {
   "cell_type": "code",
   "execution_count": 108,
   "id": "b6a4141f",
   "metadata": {},
   "outputs": [
    {
     "data": {
      "text/plain": [
       "[<matplotlib.lines.Line2D at 0x16a43c46dd0>]"
      ]
     },
     "execution_count": 108,
     "metadata": {},
     "output_type": "execute_result"
    },
    {
     "data": {
      "image/png": "[encoded data removed]",
      "text/plain": [
       "<Figure size 640x480 with 1 Axes>"
      ]
     },
     "metadata": {},
     "output_type": "display_data"
    }
   ],
   "source": [
    "plt.plot(history_alfa.history['val_loss'])"
   ]
  },
  {
   "cell_type": "markdown",
   "id": "eb8402d3",
   "metadata": {},
   "source": [
    "#### 200 Épocas"
   ]
  },
  {
   "cell_type": "code",
   "execution_count": null,
   "id": "c94e0e71",
   "metadata": {},
   "outputs": [],
   "source": [
    "history_alfa = model_alfa.fit(x_train, y_train, validation_data=(x_test, y_test), epochs=200, verbose=None)"
   ]
  },
  {
   "cell_type": "markdown",
   "id": "7cd24f41",
   "metadata": {},
   "source": [
    "### Model Beta"
   ]
  },
  {
   "cell_type": "code",
   "execution_count": null,
   "id": "7a82e99a",
   "metadata": {},
   "outputs": [
    {
     "ename": "SyntaxError",
     "evalue": "invalid syntax (4246619056.py, line 1)",
     "output_type": "error",
     "traceback": [
      "\u001b[1;36m  Cell \u001b[1;32mIn[99], line 1\u001b[1;36m\u001b[0m\n\u001b[1;33m    model_beta =\u001b[0m\n\u001b[1;37m                ^\u001b[0m\n\u001b[1;31mSyntaxError\u001b[0m\u001b[1;31m:\u001b[0m invalid syntax\n"
     ]
    }
   ],
   "source": [
    "model_beta = keras.Sequential(name='Beta')\n",
    "\n",
    "model_beta.add(layers.Input(shape=(x_train.shape[1], )))\n",
    "model_beta.add(layers.Dense(22*2, activation='relu'))\n",
    "model_beta.add(layers.Dense(22, activation='relu'))\n",
    "model_beta.add(layers.Dense(1))\n",
    "\n",
    "model_beta.summary()"
   ]
  },
  {
   "cell_type": "code",
   "execution_count": null,
   "id": "5f5f9bb0",
   "metadata": {},
   "outputs": [],
   "source": [
    "model_beta.compile(loss='mse')"
   ]
  },
  {
   "cell_type": "markdown",
   "id": "6fabd4bd",
   "metadata": {},
   "source": [
    "### Model Delta"
   ]
  },
  {
   "cell_type": "code",
   "execution_count": null,
   "id": "c8ccce2f",
   "metadata": {},
   "outputs": [],
   "source": [
    "model_delta = keras.Sequential(name='Delta')\n",
    "\n",
    "model_delta.add(layers.Input(shape=(x_train.shape[1], )))\n",
    "model_delta.add(layers.Dense(22*8, activation='relu'))\n",
    "model_delta.add(layers.Dense(22*4, activation='relu'))\n",
    "model_delta.add(layers.Dense(22*2, activation='relu'))\n",
    "model_delta.add(layers.Dense(22, activation='relu'))\n",
    "model_delta.add(layers.Dense(1))\n",
    "\n",
    "model_delta.summary()"
   ]
  },
  {
   "cell_type": "code",
   "execution_count": null,
   "id": "9e3648de",
   "metadata": {},
   "outputs": [],
   "source": [
    "model_delta.compile(loss='mse')"
   ]
  }
 ],
 "metadata": {
  "kernelspec": {
   "display_name": "Python 3",
   "language": "python",
   "name": "python3"
  },
  "language_info": {
   "codemirror_mode": {
    "name": "ipython",
    "version": 3
   },
   "file_extension": ".py",
   "mimetype": "text/x-python",
   "name": "python",
   "nbconvert_exporter": "python",
   "pygments_lexer": "ipython3",
   "version": "3.11.9"
  }
 },
 "nbformat": 4,
 "nbformat_minor": 5
}
