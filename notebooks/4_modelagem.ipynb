{
 "cells": [
  {
   "cell_type": "markdown",
   "id": "447560f9",
   "metadata": {},
   "source": [
    "## Importações"
   ]
  },
  {
   "cell_type": "code",
   "execution_count": 13,
   "id": "1b83db58",
   "metadata": {},
   "outputs": [
    {
     "name": "stdout",
     "output_type": "stream",
     "text": [
      "Requirement already satisfied: numpy in c:\\users\\luiz\\appdata\\local\\packages\\pythonsoftwarefoundation.python.3.11_qbz5n2kfra8p0\\localcache\\local-packages\\python311\\site-packages (2.1.3)\n",
      "Requirement already satisfied: pandas in c:\\users\\luiz\\appdata\\local\\packages\\pythonsoftwarefoundation.python.3.11_qbz5n2kfra8p0\\localcache\\local-packages\\python311\\site-packages (2.2.3)\n",
      "Requirement already satisfied: matplotlib in c:\\users\\luiz\\appdata\\local\\packages\\pythonsoftwarefoundation.python.3.11_qbz5n2kfra8p0\\localcache\\local-packages\\python311\\site-packages (3.10.3)\n",
      "Requirement already satisfied: seaborn in c:\\users\\luiz\\appdata\\local\\packages\\pythonsoftwarefoundation.python.3.11_qbz5n2kfra8p0\\localcache\\local-packages\\python311\\site-packages (0.13.2)\n",
      "Requirement already satisfied: scikit-learn in c:\\users\\luiz\\appdata\\local\\packages\\pythonsoftwarefoundation.python.3.11_qbz5n2kfra8p0\\localcache\\local-packages\\python311\\site-packages (1.6.1)\n",
      "Requirement already satisfied: python-dateutil>=2.8.2 in c:\\users\\luiz\\appdata\\local\\packages\\pythonsoftwarefoundation.python.3.11_qbz5n2kfra8p0\\localcache\\local-packages\\python311\\site-packages (from pandas) (2.9.0.post0)\n",
      "Requirement already satisfied: pytz>=2020.1 in c:\\users\\luiz\\appdata\\local\\packages\\pythonsoftwarefoundation.python.3.11_qbz5n2kfra8p0\\localcache\\local-packages\\python311\\site-packages (from pandas) (2025.2)\n",
      "Requirement already satisfied: tzdata>=2022.7 in c:\\users\\luiz\\appdata\\local\\packages\\pythonsoftwarefoundation.python.3.11_qbz5n2kfra8p0\\localcache\\local-packages\\python311\\site-packages (from pandas) (2025.2)\n",
      "Requirement already satisfied: contourpy>=1.0.1 in c:\\users\\luiz\\appdata\\local\\packages\\pythonsoftwarefoundation.python.3.11_qbz5n2kfra8p0\\localcache\\local-packages\\python311\\site-packages (from matplotlib) (1.3.2)\n",
      "Requirement already satisfied: cycler>=0.10 in c:\\users\\luiz\\appdata\\local\\packages\\pythonsoftwarefoundation.python.3.11_qbz5n2kfra8p0\\localcache\\local-packages\\python311\\site-packages (from matplotlib) (0.12.1)\n",
      "Requirement already satisfied: fonttools>=4.22.0 in c:\\users\\luiz\\appdata\\local\\packages\\pythonsoftwarefoundation.python.3.11_qbz5n2kfra8p0\\localcache\\local-packages\\python311\\site-packages (from matplotlib) (4.58.0)\n",
      "Requirement already satisfied: kiwisolver>=1.3.1 in c:\\users\\luiz\\appdata\\local\\packages\\pythonsoftwarefoundation.python.3.11_qbz5n2kfra8p0\\localcache\\local-packages\\python311\\site-packages (from matplotlib) (1.4.8)\n",
      "Requirement already satisfied: packaging>=20.0 in c:\\users\\luiz\\appdata\\local\\packages\\pythonsoftwarefoundation.python.3.11_qbz5n2kfra8p0\\localcache\\local-packages\\python311\\site-packages (from matplotlib) (25.0)\n",
      "Requirement already satisfied: pillow>=8 in c:\\users\\luiz\\appdata\\local\\packages\\pythonsoftwarefoundation.python.3.11_qbz5n2kfra8p0\\localcache\\local-packages\\python311\\site-packages (from matplotlib) (11.2.1)\n",
      "Requirement already satisfied: pyparsing>=2.3.1 in c:\\users\\luiz\\appdata\\local\\packages\\pythonsoftwarefoundation.python.3.11_qbz5n2kfra8p0\\localcache\\local-packages\\python311\\site-packages (from matplotlib) (3.2.3)\n",
      "Requirement already satisfied: scipy>=1.6.0 in c:\\users\\luiz\\appdata\\local\\packages\\pythonsoftwarefoundation.python.3.11_qbz5n2kfra8p0\\localcache\\local-packages\\python311\\site-packages (from scikit-learn) (1.15.3)\n",
      "Requirement already satisfied: joblib>=1.2.0 in c:\\users\\luiz\\appdata\\local\\packages\\pythonsoftwarefoundation.python.3.11_qbz5n2kfra8p0\\localcache\\local-packages\\python311\\site-packages (from scikit-learn) (1.5.0)\n",
      "Requirement already satisfied: threadpoolctl>=3.1.0 in c:\\users\\luiz\\appdata\\local\\packages\\pythonsoftwarefoundation.python.3.11_qbz5n2kfra8p0\\localcache\\local-packages\\python311\\site-packages (from scikit-learn) (3.6.0)\n",
      "Requirement already satisfied: six>=1.5 in c:\\users\\luiz\\appdata\\local\\packages\\pythonsoftwarefoundation.python.3.11_qbz5n2kfra8p0\\localcache\\local-packages\\python311\\site-packages (from python-dateutil>=2.8.2->pandas) (1.17.0)\n",
      "Note: you may need to restart the kernel to use updated packages.\n"
     ]
    }
   ],
   "source": [
    "pip install numpy pandas matplotlib seaborn scikit-learn"
   ]
  },
  {
   "cell_type": "code",
   "execution_count": 40,
   "id": "98b7c90c",
   "metadata": {},
   "outputs": [],
   "source": [
    "import numpy as np\n",
    "import pandas as pd\n",
    "\n",
    "import matplotlib.pyplot as plt\n",
    "import seaborn as sns\n",
    "\n",
    "from sklearn.preprocessing import StandardScaler\n",
    "\n",
    "from sklearn.model_selection import train_test_split\n",
    "from sklearn.metrics import mean_squared_error, mean_absolute_error, r2_score\n",
    "import keras\n",
    "from keras import layers\n",
    "\n",
    "import pickle\n",
    "from sklearn.model_selection import GridSearchCV\n",
    "from sklearn.metrics import confusion_matrix, ConfusionMatrixDisplay\n",
    "from sklearn.metrics import accuracy_score\n",
    "from sklearn.metrics import f1_score\n",
    "from sklearn.metrics import precision_score\n",
    "from sklearn.metrics import recall_score\n",
    "\n",
    "pd.options.display.max_columns = None"
   ]
  },
  {
   "cell_type": "markdown",
   "id": "117550c8",
   "metadata": {},
   "source": [
    "## Ler Dados"
   ]
  },
  {
   "cell_type": "markdown",
   "id": "4f37b2f7",
   "metadata": {},
   "source": [
    "### CSV"
   ]
  },
  {
   "cell_type": "code",
   "execution_count": 15,
   "id": "536db531",
   "metadata": {},
   "outputs": [
    {
     "data": {
      "text/plain": [
       "(299999, 23)"
      ]
     },
     "execution_count": 15,
     "metadata": {},
     "output_type": "execute_result"
    }
   ],
   "source": [
    "df = pd.read_csv('../data/arquivo_fe.csv')\n",
    "df.shape"
   ]
  },
  {
   "cell_type": "code",
   "execution_count": 16,
   "id": "5b9eb137",
   "metadata": {},
   "outputs": [
    {
     "data": {
      "text/html": [
       "<div>\n",
       "<style scoped>\n",
       "    .dataframe tbody tr th:only-of-type {\n",
       "        vertical-align: middle;\n",
       "    }\n",
       "\n",
       "    .dataframe tbody tr th {\n",
       "        vertical-align: top;\n",
       "    }\n",
       "\n",
       "    .dataframe thead th {\n",
       "        text-align: right;\n",
       "    }\n",
       "</style>\n",
       "<table border=\"1\" class=\"dataframe\">\n",
       "  <thead>\n",
       "    <tr style=\"text-align: right;\">\n",
       "      <th></th>\n",
       "      <th>startingAirport</th>\n",
       "      <th>destinationAirport</th>\n",
       "      <th>elapsedDays</th>\n",
       "      <th>seatsRemaining</th>\n",
       "      <th>searchDateInDays</th>\n",
       "      <th>flightDateInDays</th>\n",
       "      <th>segment1AirlineName</th>\n",
       "      <th>segment2AirlineName</th>\n",
       "      <th>segment3AirlineName</th>\n",
       "      <th>segment4AirlineName</th>\n",
       "      <th>segment1CabinCode</th>\n",
       "      <th>segment2CabinCode</th>\n",
       "      <th>segment3CabinCode</th>\n",
       "      <th>segment4CabinCode</th>\n",
       "      <th>segment1EquipmentDescription</th>\n",
       "      <th>segment2EquipmentDescription</th>\n",
       "      <th>segment3EquipmentDescription</th>\n",
       "      <th>segment4EquipmentDescription</th>\n",
       "      <th>daysDifferenceBetweenSearchAndFlightDate_mcat</th>\n",
       "      <th>totalTravelDistance_mcat</th>\n",
       "      <th>travelDurationInSeconds_mcat</th>\n",
       "      <th>totalFare</th>\n",
       "      <th>isBasicEconomy_True</th>\n",
       "    </tr>\n",
       "  </thead>\n",
       "  <tbody>\n",
       "    <tr>\n",
       "      <th>0</th>\n",
       "      <td>0.0</td>\n",
       "      <td>1.0</td>\n",
       "      <td>0</td>\n",
       "      <td>9</td>\n",
       "      <td>19098000000000</td>\n",
       "      <td>19099000000000</td>\n",
       "      <td>5.0</td>\n",
       "      <td>-1.0</td>\n",
       "      <td>-1.0</td>\n",
       "      <td>-1.0</td>\n",
       "      <td>1.0</td>\n",
       "      <td>-1.0</td>\n",
       "      <td>-1.0</td>\n",
       "      <td>-1.0</td>\n",
       "      <td>7.0</td>\n",
       "      <td>-1.0</td>\n",
       "      <td>-1.0</td>\n",
       "      <td>-1.0</td>\n",
       "      <td>0.0</td>\n",
       "      <td>2.0</td>\n",
       "      <td>1.0</td>\n",
       "      <td>248.6</td>\n",
       "      <td>0.0</td>\n",
       "    </tr>\n",
       "    <tr>\n",
       "      <th>1</th>\n",
       "      <td>0.0</td>\n",
       "      <td>1.0</td>\n",
       "      <td>0</td>\n",
       "      <td>4</td>\n",
       "      <td>19098000000000</td>\n",
       "      <td>19099000000000</td>\n",
       "      <td>5.0</td>\n",
       "      <td>-1.0</td>\n",
       "      <td>-1.0</td>\n",
       "      <td>-1.0</td>\n",
       "      <td>1.0</td>\n",
       "      <td>-1.0</td>\n",
       "      <td>-1.0</td>\n",
       "      <td>-1.0</td>\n",
       "      <td>7.0</td>\n",
       "      <td>-1.0</td>\n",
       "      <td>-1.0</td>\n",
       "      <td>-1.0</td>\n",
       "      <td>0.0</td>\n",
       "      <td>2.0</td>\n",
       "      <td>1.0</td>\n",
       "      <td>248.6</td>\n",
       "      <td>0.0</td>\n",
       "    </tr>\n",
       "    <tr>\n",
       "      <th>2</th>\n",
       "      <td>0.0</td>\n",
       "      <td>1.0</td>\n",
       "      <td>0</td>\n",
       "      <td>9</td>\n",
       "      <td>19098000000000</td>\n",
       "      <td>19099000000000</td>\n",
       "      <td>5.0</td>\n",
       "      <td>-1.0</td>\n",
       "      <td>-1.0</td>\n",
       "      <td>-1.0</td>\n",
       "      <td>1.0</td>\n",
       "      <td>-1.0</td>\n",
       "      <td>-1.0</td>\n",
       "      <td>-1.0</td>\n",
       "      <td>20.0</td>\n",
       "      <td>-1.0</td>\n",
       "      <td>-1.0</td>\n",
       "      <td>-1.0</td>\n",
       "      <td>0.0</td>\n",
       "      <td>2.0</td>\n",
       "      <td>1.0</td>\n",
       "      <td>248.6</td>\n",
       "      <td>0.0</td>\n",
       "    </tr>\n",
       "    <tr>\n",
       "      <th>3</th>\n",
       "      <td>0.0</td>\n",
       "      <td>1.0</td>\n",
       "      <td>0</td>\n",
       "      <td>8</td>\n",
       "      <td>19098000000000</td>\n",
       "      <td>19099000000000</td>\n",
       "      <td>5.0</td>\n",
       "      <td>-1.0</td>\n",
       "      <td>-1.0</td>\n",
       "      <td>-1.0</td>\n",
       "      <td>1.0</td>\n",
       "      <td>-1.0</td>\n",
       "      <td>-1.0</td>\n",
       "      <td>-1.0</td>\n",
       "      <td>7.0</td>\n",
       "      <td>-1.0</td>\n",
       "      <td>-1.0</td>\n",
       "      <td>-1.0</td>\n",
       "      <td>0.0</td>\n",
       "      <td>2.0</td>\n",
       "      <td>1.0</td>\n",
       "      <td>248.6</td>\n",
       "      <td>0.0</td>\n",
       "    </tr>\n",
       "    <tr>\n",
       "      <th>4</th>\n",
       "      <td>0.0</td>\n",
       "      <td>1.0</td>\n",
       "      <td>0</td>\n",
       "      <td>9</td>\n",
       "      <td>19098000000000</td>\n",
       "      <td>19099000000000</td>\n",
       "      <td>5.0</td>\n",
       "      <td>-1.0</td>\n",
       "      <td>-1.0</td>\n",
       "      <td>-1.0</td>\n",
       "      <td>1.0</td>\n",
       "      <td>-1.0</td>\n",
       "      <td>-1.0</td>\n",
       "      <td>-1.0</td>\n",
       "      <td>7.0</td>\n",
       "      <td>-1.0</td>\n",
       "      <td>-1.0</td>\n",
       "      <td>-1.0</td>\n",
       "      <td>0.0</td>\n",
       "      <td>2.0</td>\n",
       "      <td>1.0</td>\n",
       "      <td>248.6</td>\n",
       "      <td>0.0</td>\n",
       "    </tr>\n",
       "  </tbody>\n",
       "</table>\n",
       "</div>"
      ],
      "text/plain": [
       "   startingAirport  destinationAirport  elapsedDays  seatsRemaining  \\\n",
       "0              0.0                 1.0            0               9   \n",
       "1              0.0                 1.0            0               4   \n",
       "2              0.0                 1.0            0               9   \n",
       "3              0.0                 1.0            0               8   \n",
       "4              0.0                 1.0            0               9   \n",
       "\n",
       "   searchDateInDays  flightDateInDays  segment1AirlineName  \\\n",
       "0    19098000000000    19099000000000                  5.0   \n",
       "1    19098000000000    19099000000000                  5.0   \n",
       "2    19098000000000    19099000000000                  5.0   \n",
       "3    19098000000000    19099000000000                  5.0   \n",
       "4    19098000000000    19099000000000                  5.0   \n",
       "\n",
       "   segment2AirlineName  segment3AirlineName  segment4AirlineName  \\\n",
       "0                 -1.0                 -1.0                 -1.0   \n",
       "1                 -1.0                 -1.0                 -1.0   \n",
       "2                 -1.0                 -1.0                 -1.0   \n",
       "3                 -1.0                 -1.0                 -1.0   \n",
       "4                 -1.0                 -1.0                 -1.0   \n",
       "\n",
       "   segment1CabinCode  segment2CabinCode  segment3CabinCode  segment4CabinCode  \\\n",
       "0                1.0               -1.0               -1.0               -1.0   \n",
       "1                1.0               -1.0               -1.0               -1.0   \n",
       "2                1.0               -1.0               -1.0               -1.0   \n",
       "3                1.0               -1.0               -1.0               -1.0   \n",
       "4                1.0               -1.0               -1.0               -1.0   \n",
       "\n",
       "   segment1EquipmentDescription  segment2EquipmentDescription  \\\n",
       "0                           7.0                          -1.0   \n",
       "1                           7.0                          -1.0   \n",
       "2                          20.0                          -1.0   \n",
       "3                           7.0                          -1.0   \n",
       "4                           7.0                          -1.0   \n",
       "\n",
       "   segment3EquipmentDescription  segment4EquipmentDescription  \\\n",
       "0                          -1.0                          -1.0   \n",
       "1                          -1.0                          -1.0   \n",
       "2                          -1.0                          -1.0   \n",
       "3                          -1.0                          -1.0   \n",
       "4                          -1.0                          -1.0   \n",
       "\n",
       "   daysDifferenceBetweenSearchAndFlightDate_mcat  totalTravelDistance_mcat  \\\n",
       "0                                            0.0                       2.0   \n",
       "1                                            0.0                       2.0   \n",
       "2                                            0.0                       2.0   \n",
       "3                                            0.0                       2.0   \n",
       "4                                            0.0                       2.0   \n",
       "\n",
       "   travelDurationInSeconds_mcat  totalFare  isBasicEconomy_True  \n",
       "0                           1.0      248.6                  0.0  \n",
       "1                           1.0      248.6                  0.0  \n",
       "2                           1.0      248.6                  0.0  \n",
       "3                           1.0      248.6                  0.0  \n",
       "4                           1.0      248.6                  0.0  "
      ]
     },
     "execution_count": 16,
     "metadata": {},
     "output_type": "execute_result"
    }
   ],
   "source": [
    "df.head()"
   ]
  },
  {
   "cell_type": "markdown",
   "id": "99e27890",
   "metadata": {},
   "source": [
    "### Pickle"
   ]
  },
  {
   "cell_type": "code",
   "execution_count": 17,
   "id": "f5ff8237",
   "metadata": {},
   "outputs": [],
   "source": [
    "with open('../pkls/oe.pickle', 'rb') as handle:\n",
    "    oe_enc = pickle.load(handle)\n",
    "\n",
    "with open('../pkls/ohe.pickle', 'rb') as handle:\n",
    "    ohe_enc = pickle.load(handle)"
   ]
  },
  {
   "cell_type": "markdown",
   "id": "872f119f",
   "metadata": {},
   "source": [
    "## Split"
   ]
  },
  {
   "cell_type": "code",
   "execution_count": 18,
   "id": "8f78aaf8",
   "metadata": {},
   "outputs": [],
   "source": [
    "TARGET = 'totalFare'"
   ]
  },
  {
   "cell_type": "code",
   "execution_count": 19,
   "id": "2b676bdf",
   "metadata": {},
   "outputs": [],
   "source": [
    "x = df.copy()\n",
    "y = x.pop(TARGET)"
   ]
  },
  {
   "cell_type": "markdown",
   "id": "e07c7766",
   "metadata": {},
   "source": [
    "### Padronização"
   ]
  },
  {
   "cell_type": "markdown",
   "id": "d9103c8d",
   "metadata": {},
   "source": [
    "Notamos que após a primeira implementação, o loss estava muito alto, então isso pode ter ocorrido pela variação das escalas dos dados."
   ]
  },
  {
   "cell_type": "code",
   "execution_count": 20,
   "id": "4c1a3505",
   "metadata": {},
   "outputs": [],
   "source": [
    "standard = StandardScaler().fit(x)"
   ]
  },
  {
   "cell_type": "code",
   "execution_count": 21,
   "id": "9eed2235",
   "metadata": {},
   "outputs": [],
   "source": [
    "x_standard = standard.transform(x)"
   ]
  },
  {
   "cell_type": "code",
   "execution_count": 22,
   "id": "6ac09b91",
   "metadata": {},
   "outputs": [],
   "source": [
    "x_standard = pd.DataFrame(x_standard)"
   ]
  },
  {
   "cell_type": "code",
   "execution_count": 23,
   "id": "e77fd9be",
   "metadata": {},
   "outputs": [
    {
     "data": {
      "text/html": [
       "<div>\n",
       "<style scoped>\n",
       "    .dataframe tbody tr th:only-of-type {\n",
       "        vertical-align: middle;\n",
       "    }\n",
       "\n",
       "    .dataframe tbody tr th {\n",
       "        vertical-align: top;\n",
       "    }\n",
       "\n",
       "    .dataframe thead th {\n",
       "        text-align: right;\n",
       "    }\n",
       "</style>\n",
       "<table border=\"1\" class=\"dataframe\">\n",
       "  <thead>\n",
       "    <tr style=\"text-align: right;\">\n",
       "      <th></th>\n",
       "      <th>0</th>\n",
       "      <th>1</th>\n",
       "      <th>2</th>\n",
       "      <th>3</th>\n",
       "      <th>4</th>\n",
       "      <th>5</th>\n",
       "      <th>6</th>\n",
       "      <th>7</th>\n",
       "      <th>8</th>\n",
       "      <th>9</th>\n",
       "      <th>10</th>\n",
       "      <th>11</th>\n",
       "      <th>12</th>\n",
       "      <th>13</th>\n",
       "      <th>14</th>\n",
       "      <th>15</th>\n",
       "      <th>16</th>\n",
       "      <th>17</th>\n",
       "      <th>18</th>\n",
       "      <th>19</th>\n",
       "      <th>20</th>\n",
       "      <th>21</th>\n",
       "    </tr>\n",
       "  </thead>\n",
       "  <tbody>\n",
       "    <tr>\n",
       "      <th>0</th>\n",
       "      <td>-1.579472</td>\n",
       "      <td>-1.374752</td>\n",
       "      <td>-0.409786</td>\n",
       "      <td>1.289876</td>\n",
       "      <td>-1.556412</td>\n",
       "      <td>-1.453993</td>\n",
       "      <td>-0.165265</td>\n",
       "      <td>-1.020217</td>\n",
       "      <td>-0.234996</td>\n",
       "      <td>-0.057799</td>\n",
       "      <td>-0.048038</td>\n",
       "      <td>-1.641479</td>\n",
       "      <td>-0.281736</td>\n",
       "      <td>-0.060554</td>\n",
       "      <td>-0.680727</td>\n",
       "      <td>-0.969456</td>\n",
       "      <td>-0.236615</td>\n",
       "      <td>-0.051968</td>\n",
       "      <td>-1.191431</td>\n",
       "      <td>-0.813312</td>\n",
       "      <td>-1.233725</td>\n",
       "      <td>-0.311456</td>\n",
       "    </tr>\n",
       "    <tr>\n",
       "      <th>1</th>\n",
       "      <td>-1.579472</td>\n",
       "      <td>-1.374752</td>\n",
       "      <td>-0.409786</td>\n",
       "      <td>-0.393990</td>\n",
       "      <td>-1.556412</td>\n",
       "      <td>-1.453993</td>\n",
       "      <td>-0.165265</td>\n",
       "      <td>-1.020217</td>\n",
       "      <td>-0.234996</td>\n",
       "      <td>-0.057799</td>\n",
       "      <td>-0.048038</td>\n",
       "      <td>-1.641479</td>\n",
       "      <td>-0.281736</td>\n",
       "      <td>-0.060554</td>\n",
       "      <td>-0.680727</td>\n",
       "      <td>-0.969456</td>\n",
       "      <td>-0.236615</td>\n",
       "      <td>-0.051968</td>\n",
       "      <td>-1.191431</td>\n",
       "      <td>-0.813312</td>\n",
       "      <td>-1.233725</td>\n",
       "      <td>-0.311456</td>\n",
       "    </tr>\n",
       "    <tr>\n",
       "      <th>2</th>\n",
       "      <td>-1.579472</td>\n",
       "      <td>-1.374752</td>\n",
       "      <td>-0.409786</td>\n",
       "      <td>1.289876</td>\n",
       "      <td>-1.556412</td>\n",
       "      <td>-1.453993</td>\n",
       "      <td>-0.165265</td>\n",
       "      <td>-1.020217</td>\n",
       "      <td>-0.234996</td>\n",
       "      <td>-0.057799</td>\n",
       "      <td>-0.048038</td>\n",
       "      <td>-1.641479</td>\n",
       "      <td>-0.281736</td>\n",
       "      <td>-0.060554</td>\n",
       "      <td>0.474148</td>\n",
       "      <td>-0.969456</td>\n",
       "      <td>-0.236615</td>\n",
       "      <td>-0.051968</td>\n",
       "      <td>-1.191431</td>\n",
       "      <td>-0.813312</td>\n",
       "      <td>-1.233725</td>\n",
       "      <td>-0.311456</td>\n",
       "    </tr>\n",
       "    <tr>\n",
       "      <th>3</th>\n",
       "      <td>-1.579472</td>\n",
       "      <td>-1.374752</td>\n",
       "      <td>-0.409786</td>\n",
       "      <td>0.953103</td>\n",
       "      <td>-1.556412</td>\n",
       "      <td>-1.453993</td>\n",
       "      <td>-0.165265</td>\n",
       "      <td>-1.020217</td>\n",
       "      <td>-0.234996</td>\n",
       "      <td>-0.057799</td>\n",
       "      <td>-0.048038</td>\n",
       "      <td>-1.641479</td>\n",
       "      <td>-0.281736</td>\n",
       "      <td>-0.060554</td>\n",
       "      <td>-0.680727</td>\n",
       "      <td>-0.969456</td>\n",
       "      <td>-0.236615</td>\n",
       "      <td>-0.051968</td>\n",
       "      <td>-1.191431</td>\n",
       "      <td>-0.813312</td>\n",
       "      <td>-1.233725</td>\n",
       "      <td>-0.311456</td>\n",
       "    </tr>\n",
       "    <tr>\n",
       "      <th>4</th>\n",
       "      <td>-1.579472</td>\n",
       "      <td>-1.374752</td>\n",
       "      <td>-0.409786</td>\n",
       "      <td>1.289876</td>\n",
       "      <td>-1.556412</td>\n",
       "      <td>-1.453993</td>\n",
       "      <td>-0.165265</td>\n",
       "      <td>-1.020217</td>\n",
       "      <td>-0.234996</td>\n",
       "      <td>-0.057799</td>\n",
       "      <td>-0.048038</td>\n",
       "      <td>-1.641479</td>\n",
       "      <td>-0.281736</td>\n",
       "      <td>-0.060554</td>\n",
       "      <td>-0.680727</td>\n",
       "      <td>-0.969456</td>\n",
       "      <td>-0.236615</td>\n",
       "      <td>-0.051968</td>\n",
       "      <td>-1.191431</td>\n",
       "      <td>-0.813312</td>\n",
       "      <td>-1.233725</td>\n",
       "      <td>-0.311456</td>\n",
       "    </tr>\n",
       "  </tbody>\n",
       "</table>\n",
       "</div>"
      ],
      "text/plain": [
       "         0         1         2         3         4         5         6   \\\n",
       "0 -1.579472 -1.374752 -0.409786  1.289876 -1.556412 -1.453993 -0.165265   \n",
       "1 -1.579472 -1.374752 -0.409786 -0.393990 -1.556412 -1.453993 -0.165265   \n",
       "2 -1.579472 -1.374752 -0.409786  1.289876 -1.556412 -1.453993 -0.165265   \n",
       "3 -1.579472 -1.374752 -0.409786  0.953103 -1.556412 -1.453993 -0.165265   \n",
       "4 -1.579472 -1.374752 -0.409786  1.289876 -1.556412 -1.453993 -0.165265   \n",
       "\n",
       "         7         8         9         10        11        12        13  \\\n",
       "0 -1.020217 -0.234996 -0.057799 -0.048038 -1.641479 -0.281736 -0.060554   \n",
       "1 -1.020217 -0.234996 -0.057799 -0.048038 -1.641479 -0.281736 -0.060554   \n",
       "2 -1.020217 -0.234996 -0.057799 -0.048038 -1.641479 -0.281736 -0.060554   \n",
       "3 -1.020217 -0.234996 -0.057799 -0.048038 -1.641479 -0.281736 -0.060554   \n",
       "4 -1.020217 -0.234996 -0.057799 -0.048038 -1.641479 -0.281736 -0.060554   \n",
       "\n",
       "         14        15        16        17        18        19        20  \\\n",
       "0 -0.680727 -0.969456 -0.236615 -0.051968 -1.191431 -0.813312 -1.233725   \n",
       "1 -0.680727 -0.969456 -0.236615 -0.051968 -1.191431 -0.813312 -1.233725   \n",
       "2  0.474148 -0.969456 -0.236615 -0.051968 -1.191431 -0.813312 -1.233725   \n",
       "3 -0.680727 -0.969456 -0.236615 -0.051968 -1.191431 -0.813312 -1.233725   \n",
       "4 -0.680727 -0.969456 -0.236615 -0.051968 -1.191431 -0.813312 -1.233725   \n",
       "\n",
       "         21  \n",
       "0 -0.311456  \n",
       "1 -0.311456  \n",
       "2 -0.311456  \n",
       "3 -0.311456  \n",
       "4 -0.311456  "
      ]
     },
     "execution_count": 23,
     "metadata": {},
     "output_type": "execute_result"
    }
   ],
   "source": [
    "x_standard.head()"
   ]
  },
  {
   "cell_type": "markdown",
   "id": "ff53d33c",
   "metadata": {},
   "source": [
    "Separamos 33% dos valores para teste."
   ]
  },
  {
   "cell_type": "code",
   "execution_count": 24,
   "id": "c908f057",
   "metadata": {},
   "outputs": [],
   "source": [
    "x_train, x_test, y_train, y_test = train_test_split(x_standard, y, test_size=0.33, random_state=42)"
   ]
  },
  {
   "cell_type": "code",
   "execution_count": 25,
   "id": "b438d5a0",
   "metadata": {},
   "outputs": [
    {
     "data": {
      "text/plain": [
       "((200999, 22), (99000, 22))"
      ]
     },
     "execution_count": 25,
     "metadata": {},
     "output_type": "execute_result"
    }
   ],
   "source": [
    "x_train.shape, x_test.shape"
   ]
  },
  {
   "cell_type": "markdown",
   "id": "2b076db7",
   "metadata": {},
   "source": [
    "## Treinamento"
   ]
  },
  {
   "cell_type": "markdown",
   "id": "662dc106",
   "metadata": {},
   "source": [
    "Criamos 3 modelos para interpretar os dados."
   ]
  },
  {
   "cell_type": "markdown",
   "id": "31d773f5",
   "metadata": {},
   "source": [
    "### Model Alfa"
   ]
  },
  {
   "cell_type": "markdown",
   "id": "45fdcc21",
   "metadata": {},
   "source": [
    "O Model Alfa, possui 1 camada com 22 layers, com base o número de colunas, e a função de ativação relu."
   ]
  },
  {
   "cell_type": "code",
   "execution_count": 26,
   "id": "1949a735",
   "metadata": {},
   "outputs": [
    {
     "data": {
      "text/html": [
       "<pre style=\"white-space:pre;overflow-x:auto;line-height:normal;font-family:Menlo,'DejaVu Sans Mono',consolas,'Courier New',monospace\"><span style=\"font-weight: bold\">Model: \"Alfa\"</span>\n",
       "</pre>\n"
      ],
      "text/plain": [
       "\u001b[1mModel: \"Alfa\"\u001b[0m\n"
      ]
     },
     "metadata": {},
     "output_type": "display_data"
    },
    {
     "data": {
      "text/html": [
       "<pre style=\"white-space:pre;overflow-x:auto;line-height:normal;font-family:Menlo,'DejaVu Sans Mono',consolas,'Courier New',monospace\">┏━━━━━━━━━━━━━━━━━━━━━━━━━━━━━━━━━┳━━━━━━━━━━━━━━━━━━━━━━━━┳━━━━━━━━━━━━━━━┓\n",
       "┃<span style=\"font-weight: bold\"> Layer (type)                    </span>┃<span style=\"font-weight: bold\"> Output Shape           </span>┃<span style=\"font-weight: bold\">       Param # </span>┃\n",
       "┡━━━━━━━━━━━━━━━━━━━━━━━━━━━━━━━━━╇━━━━━━━━━━━━━━━━━━━━━━━━╇━━━━━━━━━━━━━━━┩\n",
       "│ dense (<span style=\"color: #0087ff; text-decoration-color: #0087ff\">Dense</span>)                   │ (<span style=\"color: #00d7ff; text-decoration-color: #00d7ff\">None</span>, <span style=\"color: #00af00; text-decoration-color: #00af00\">22</span>)             │           <span style=\"color: #00af00; text-decoration-color: #00af00\">506</span> │\n",
       "├─────────────────────────────────┼────────────────────────┼───────────────┤\n",
       "│ dense_1 (<span style=\"color: #0087ff; text-decoration-color: #0087ff\">Dense</span>)                 │ (<span style=\"color: #00d7ff; text-decoration-color: #00d7ff\">None</span>, <span style=\"color: #00af00; text-decoration-color: #00af00\">1</span>)              │            <span style=\"color: #00af00; text-decoration-color: #00af00\">23</span> │\n",
       "└─────────────────────────────────┴────────────────────────┴───────────────┘\n",
       "</pre>\n"
      ],
      "text/plain": [
       "┏━━━━━━━━━━━━━━━━━━━━━━━━━━━━━━━━━┳━━━━━━━━━━━━━━━━━━━━━━━━┳━━━━━━━━━━━━━━━┓\n",
       "┃\u001b[1m \u001b[0m\u001b[1mLayer (type)                   \u001b[0m\u001b[1m \u001b[0m┃\u001b[1m \u001b[0m\u001b[1mOutput Shape          \u001b[0m\u001b[1m \u001b[0m┃\u001b[1m \u001b[0m\u001b[1m      Param #\u001b[0m\u001b[1m \u001b[0m┃\n",
       "┡━━━━━━━━━━━━━━━━━━━━━━━━━━━━━━━━━╇━━━━━━━━━━━━━━━━━━━━━━━━╇━━━━━━━━━━━━━━━┩\n",
       "│ dense (\u001b[38;5;33mDense\u001b[0m)                   │ (\u001b[38;5;45mNone\u001b[0m, \u001b[38;5;34m22\u001b[0m)             │           \u001b[38;5;34m506\u001b[0m │\n",
       "├─────────────────────────────────┼────────────────────────┼───────────────┤\n",
       "│ dense_1 (\u001b[38;5;33mDense\u001b[0m)                 │ (\u001b[38;5;45mNone\u001b[0m, \u001b[38;5;34m1\u001b[0m)              │            \u001b[38;5;34m23\u001b[0m │\n",
       "└─────────────────────────────────┴────────────────────────┴───────────────┘\n"
      ]
     },
     "metadata": {},
     "output_type": "display_data"
    },
    {
     "data": {
      "text/html": [
       "<pre style=\"white-space:pre;overflow-x:auto;line-height:normal;font-family:Menlo,'DejaVu Sans Mono',consolas,'Courier New',monospace\"><span style=\"font-weight: bold\"> Total params: </span><span style=\"color: #00af00; text-decoration-color: #00af00\">529</span> (2.07 KB)\n",
       "</pre>\n"
      ],
      "text/plain": [
       "\u001b[1m Total params: \u001b[0m\u001b[38;5;34m529\u001b[0m (2.07 KB)\n"
      ]
     },
     "metadata": {},
     "output_type": "display_data"
    },
    {
     "data": {
      "text/html": [
       "<pre style=\"white-space:pre;overflow-x:auto;line-height:normal;font-family:Menlo,'DejaVu Sans Mono',consolas,'Courier New',monospace\"><span style=\"font-weight: bold\"> Trainable params: </span><span style=\"color: #00af00; text-decoration-color: #00af00\">529</span> (2.07 KB)\n",
       "</pre>\n"
      ],
      "text/plain": [
       "\u001b[1m Trainable params: \u001b[0m\u001b[38;5;34m529\u001b[0m (2.07 KB)\n"
      ]
     },
     "metadata": {},
     "output_type": "display_data"
    },
    {
     "data": {
      "text/html": [
       "<pre style=\"white-space:pre;overflow-x:auto;line-height:normal;font-family:Menlo,'DejaVu Sans Mono',consolas,'Courier New',monospace\"><span style=\"font-weight: bold\"> Non-trainable params: </span><span style=\"color: #00af00; text-decoration-color: #00af00\">0</span> (0.00 B)\n",
       "</pre>\n"
      ],
      "text/plain": [
       "\u001b[1m Non-trainable params: \u001b[0m\u001b[38;5;34m0\u001b[0m (0.00 B)\n"
      ]
     },
     "metadata": {},
     "output_type": "display_data"
    }
   ],
   "source": [
    "model_alfa = keras.Sequential(name='Alfa')\n",
    "\n",
    "model_alfa.add(layers.Input(shape=(x_train.shape[1], )))\n",
    "model_alfa.add(layers.Dense(22, activation='relu'))\n",
    "model_alfa.add(layers.Dense(1))\n",
    "\n",
    "model_alfa.summary()"
   ]
  },
  {
   "cell_type": "code",
   "execution_count": 27,
   "id": "d23196f8",
   "metadata": {},
   "outputs": [],
   "source": [
    "model_alfa.compile(loss='mse')"
   ]
  },
  {
   "cell_type": "markdown",
   "id": "fa462c3f",
   "metadata": {},
   "source": [
    "#### 50 épocas"
   ]
  },
  {
   "cell_type": "code",
   "execution_count": 28,
   "id": "4407cb2a",
   "metadata": {},
   "outputs": [],
   "source": [
    "history_alfa = model_alfa.fit(x_train, y_train, validation_data=(x_test, y_test), epochs=50, verbose=None)"
   ]
  },
  {
   "cell_type": "markdown",
   "id": "998d5846",
   "metadata": {},
   "source": [
    "Com 50 épocas, o loss foi decaindo, com isso aumentamos para 100, visto que o modelo foi melhorando os resultados."
   ]
  },
  {
   "cell_type": "code",
   "execution_count": 29,
   "id": "252df263",
   "metadata": {},
   "outputs": [
    {
     "data": {
      "text/plain": [
       "[<matplotlib.lines.Line2D at 0x1bfca38d4d0>]"
      ]
     },
     "execution_count": 29,
     "metadata": {},
     "output_type": "execute_result"
    },
    {
     "data": {
      "image/png": "[encoded data removed]",
      "text/plain": [
       "<Figure size 640x480 with 1 Axes>"
      ]
     },
     "metadata": {},
     "output_type": "display_data"
    }
   ],
   "source": [
    "plt.plot(history_alfa.history['val_loss'])"
   ]
  },
  {
   "cell_type": "markdown",
   "id": "75d7d1d4",
   "metadata": {},
   "source": [
    "#### 100 Épocas"
   ]
  },
  {
   "cell_type": "code",
   "execution_count": 30,
   "id": "dd1824a3",
   "metadata": {},
   "outputs": [],
   "source": [
    "history_alfa = model_alfa.fit(x_train, y_train, validation_data=(x_test, y_test), epochs=100, verbose=None)"
   ]
  },
  {
   "cell_type": "code",
   "execution_count": 31,
   "id": "b6a4141f",
   "metadata": {},
   "outputs": [
    {
     "data": {
      "text/plain": [
       "[<matplotlib.lines.Line2D at 0x1bfd2668790>]"
      ]
     },
     "execution_count": 31,
     "metadata": {},
     "output_type": "execute_result"
    },
    {
     "data": {
      "image/png": "[encoded data removed]",
      "text/plain": [
       "<Figure size 640x480 with 1 Axes>"
      ]
     },
     "metadata": {},
     "output_type": "display_data"
    }
   ],
   "source": [
    "plt.plot(history_alfa.history['val_loss'])"
   ]
  },
  {
   "cell_type": "markdown",
   "id": "eb8402d3",
   "metadata": {},
   "source": [
    "#### 200 Épocas"
   ]
  },
  {
   "cell_type": "code",
   "execution_count": 39,
   "id": "c94e0e71",
   "metadata": {},
   "outputs": [],
   "source": [
    "history_alfa = model_alfa.fit(x_train, y_train, validation_data=(x_test, y_test), epochs=200, verbose=None)"
   ]
  },
  {
   "cell_type": "markdown",
   "id": "7cd24f41",
   "metadata": {},
   "source": [
    "### Model Beta"
   ]
  },
  {
   "cell_type": "code",
   "execution_count": 42,
   "id": "7a82e99a",
   "metadata": {},
   "outputs": [
    {
     "data": {
      "text/html": [
       "<pre style=\"white-space:pre;overflow-x:auto;line-height:normal;font-family:Menlo,'DejaVu Sans Mono',consolas,'Courier New',monospace\"><span style=\"font-weight: bold\">Model: \"Beta\"</span>\n",
       "</pre>\n"
      ],
      "text/plain": [
       "\u001b[1mModel: \"Beta\"\u001b[0m\n"
      ]
     },
     "metadata": {},
     "output_type": "display_data"
    },
    {
     "data": {
      "text/html": [
       "<pre style=\"white-space:pre;overflow-x:auto;line-height:normal;font-family:Menlo,'DejaVu Sans Mono',consolas,'Courier New',monospace\">┏━━━━━━━━━━━━━━━━━━━━━━━━━━━━━━━━━┳━━━━━━━━━━━━━━━━━━━━━━━━┳━━━━━━━━━━━━━━━┓\n",
       "┃<span style=\"font-weight: bold\"> Layer (type)                    </span>┃<span style=\"font-weight: bold\"> Output Shape           </span>┃<span style=\"font-weight: bold\">       Param # </span>┃\n",
       "┡━━━━━━━━━━━━━━━━━━━━━━━━━━━━━━━━━╇━━━━━━━━━━━━━━━━━━━━━━━━╇━━━━━━━━━━━━━━━┩\n",
       "│ dense_10 (<span style=\"color: #0087ff; text-decoration-color: #0087ff\">Dense</span>)                │ (<span style=\"color: #00d7ff; text-decoration-color: #00d7ff\">None</span>, <span style=\"color: #00af00; text-decoration-color: #00af00\">44</span>)             │         <span style=\"color: #00af00; text-decoration-color: #00af00\">1,012</span> │\n",
       "├─────────────────────────────────┼────────────────────────┼───────────────┤\n",
       "│ dense_11 (<span style=\"color: #0087ff; text-decoration-color: #0087ff\">Dense</span>)                │ (<span style=\"color: #00d7ff; text-decoration-color: #00d7ff\">None</span>, <span style=\"color: #00af00; text-decoration-color: #00af00\">22</span>)             │           <span style=\"color: #00af00; text-decoration-color: #00af00\">990</span> │\n",
       "├─────────────────────────────────┼────────────────────────┼───────────────┤\n",
       "│ dense_12 (<span style=\"color: #0087ff; text-decoration-color: #0087ff\">Dense</span>)                │ (<span style=\"color: #00d7ff; text-decoration-color: #00d7ff\">None</span>, <span style=\"color: #00af00; text-decoration-color: #00af00\">1</span>)              │            <span style=\"color: #00af00; text-decoration-color: #00af00\">23</span> │\n",
       "└─────────────────────────────────┴────────────────────────┴───────────────┘\n",
       "</pre>\n"
      ],
      "text/plain": [
       "┏━━━━━━━━━━━━━━━━━━━━━━━━━━━━━━━━━┳━━━━━━━━━━━━━━━━━━━━━━━━┳━━━━━━━━━━━━━━━┓\n",
       "┃\u001b[1m \u001b[0m\u001b[1mLayer (type)                   \u001b[0m\u001b[1m \u001b[0m┃\u001b[1m \u001b[0m\u001b[1mOutput Shape          \u001b[0m\u001b[1m \u001b[0m┃\u001b[1m \u001b[0m\u001b[1m      Param #\u001b[0m\u001b[1m \u001b[0m┃\n",
       "┡━━━━━━━━━━━━━━━━━━━━━━━━━━━━━━━━━╇━━━━━━━━━━━━━━━━━━━━━━━━╇━━━━━━━━━━━━━━━┩\n",
       "│ dense_10 (\u001b[38;5;33mDense\u001b[0m)                │ (\u001b[38;5;45mNone\u001b[0m, \u001b[38;5;34m44\u001b[0m)             │         \u001b[38;5;34m1,012\u001b[0m │\n",
       "├─────────────────────────────────┼────────────────────────┼───────────────┤\n",
       "│ dense_11 (\u001b[38;5;33mDense\u001b[0m)                │ (\u001b[38;5;45mNone\u001b[0m, \u001b[38;5;34m22\u001b[0m)             │           \u001b[38;5;34m990\u001b[0m │\n",
       "├─────────────────────────────────┼────────────────────────┼───────────────┤\n",
       "│ dense_12 (\u001b[38;5;33mDense\u001b[0m)                │ (\u001b[38;5;45mNone\u001b[0m, \u001b[38;5;34m1\u001b[0m)              │            \u001b[38;5;34m23\u001b[0m │\n",
       "└─────────────────────────────────┴────────────────────────┴───────────────┘\n"
      ]
     },
     "metadata": {},
     "output_type": "display_data"
    },
    {
     "data": {
      "text/html": [
       "<pre style=\"white-space:pre;overflow-x:auto;line-height:normal;font-family:Menlo,'DejaVu Sans Mono',consolas,'Courier New',monospace\"><span style=\"font-weight: bold\"> Total params: </span><span style=\"color: #00af00; text-decoration-color: #00af00\">2,025</span> (7.91 KB)\n",
       "</pre>\n"
      ],
      "text/plain": [
       "\u001b[1m Total params: \u001b[0m\u001b[38;5;34m2,025\u001b[0m (7.91 KB)\n"
      ]
     },
     "metadata": {},
     "output_type": "display_data"
    },
    {
     "data": {
      "text/html": [
       "<pre style=\"white-space:pre;overflow-x:auto;line-height:normal;font-family:Menlo,'DejaVu Sans Mono',consolas,'Courier New',monospace\"><span style=\"font-weight: bold\"> Trainable params: </span><span style=\"color: #00af00; text-decoration-color: #00af00\">2,025</span> (7.91 KB)\n",
       "</pre>\n"
      ],
      "text/plain": [
       "\u001b[1m Trainable params: \u001b[0m\u001b[38;5;34m2,025\u001b[0m (7.91 KB)\n"
      ]
     },
     "metadata": {},
     "output_type": "display_data"
    },
    {
     "data": {
      "text/html": [
       "<pre style=\"white-space:pre;overflow-x:auto;line-height:normal;font-family:Menlo,'DejaVu Sans Mono',consolas,'Courier New',monospace\"><span style=\"font-weight: bold\"> Non-trainable params: </span><span style=\"color: #00af00; text-decoration-color: #00af00\">0</span> (0.00 B)\n",
       "</pre>\n"
      ],
      "text/plain": [
       "\u001b[1m Non-trainable params: \u001b[0m\u001b[38;5;34m0\u001b[0m (0.00 B)\n"
      ]
     },
     "metadata": {},
     "output_type": "display_data"
    }
   ],
   "source": [
    "model_beta = keras.Sequential(name='Beta')\n",
    "\n",
    "model_beta.add(layers.Input(shape=(x_train.shape[1], )))\n",
    "model_beta.add(layers.Dense(22*2, activation='relu'))\n",
    "model_beta.add(layers.Dense(22, activation='relu'))\n",
    "model_beta.add(layers.Dense(1))\n",
    "\n",
    "model_beta.summary()"
   ]
  },
  {
   "cell_type": "code",
   "execution_count": 43,
   "id": "5f5f9bb0",
   "metadata": {},
   "outputs": [],
   "source": [
    "model_beta.compile(loss='mse')"
   ]
  },
  {
   "cell_type": "markdown",
   "id": "6fabd4bd",
   "metadata": {},
   "source": [
    "### Model Delta"
   ]
  },
  {
   "cell_type": "code",
   "execution_count": 44,
   "id": "c8ccce2f",
   "metadata": {},
   "outputs": [
    {
     "data": {
      "text/html": [
       "<pre style=\"white-space:pre;overflow-x:auto;line-height:normal;font-family:Menlo,'DejaVu Sans Mono',consolas,'Courier New',monospace\"><span style=\"font-weight: bold\">Model: \"Delta\"</span>\n",
       "</pre>\n"
      ],
      "text/plain": [
       "\u001b[1mModel: \"Delta\"\u001b[0m\n"
      ]
     },
     "metadata": {},
     "output_type": "display_data"
    },
    {
     "data": {
      "text/html": [
       "<pre style=\"white-space:pre;overflow-x:auto;line-height:normal;font-family:Menlo,'DejaVu Sans Mono',consolas,'Courier New',monospace\">┏━━━━━━━━━━━━━━━━━━━━━━━━━━━━━━━━━┳━━━━━━━━━━━━━━━━━━━━━━━━┳━━━━━━━━━━━━━━━┓\n",
       "┃<span style=\"font-weight: bold\"> Layer (type)                    </span>┃<span style=\"font-weight: bold\"> Output Shape           </span>┃<span style=\"font-weight: bold\">       Param # </span>┃\n",
       "┡━━━━━━━━━━━━━━━━━━━━━━━━━━━━━━━━━╇━━━━━━━━━━━━━━━━━━━━━━━━╇━━━━━━━━━━━━━━━┩\n",
       "│ dense_13 (<span style=\"color: #0087ff; text-decoration-color: #0087ff\">Dense</span>)                │ (<span style=\"color: #00d7ff; text-decoration-color: #00d7ff\">None</span>, <span style=\"color: #00af00; text-decoration-color: #00af00\">176</span>)            │         <span style=\"color: #00af00; text-decoration-color: #00af00\">4,048</span> │\n",
       "├─────────────────────────────────┼────────────────────────┼───────────────┤\n",
       "│ dense_14 (<span style=\"color: #0087ff; text-decoration-color: #0087ff\">Dense</span>)                │ (<span style=\"color: #00d7ff; text-decoration-color: #00d7ff\">None</span>, <span style=\"color: #00af00; text-decoration-color: #00af00\">88</span>)             │        <span style=\"color: #00af00; text-decoration-color: #00af00\">15,576</span> │\n",
       "├─────────────────────────────────┼────────────────────────┼───────────────┤\n",
       "│ dense_15 (<span style=\"color: #0087ff; text-decoration-color: #0087ff\">Dense</span>)                │ (<span style=\"color: #00d7ff; text-decoration-color: #00d7ff\">None</span>, <span style=\"color: #00af00; text-decoration-color: #00af00\">44</span>)             │         <span style=\"color: #00af00; text-decoration-color: #00af00\">3,916</span> │\n",
       "├─────────────────────────────────┼────────────────────────┼───────────────┤\n",
       "│ dense_16 (<span style=\"color: #0087ff; text-decoration-color: #0087ff\">Dense</span>)                │ (<span style=\"color: #00d7ff; text-decoration-color: #00d7ff\">None</span>, <span style=\"color: #00af00; text-decoration-color: #00af00\">22</span>)             │           <span style=\"color: #00af00; text-decoration-color: #00af00\">990</span> │\n",
       "├─────────────────────────────────┼────────────────────────┼───────────────┤\n",
       "│ dense_17 (<span style=\"color: #0087ff; text-decoration-color: #0087ff\">Dense</span>)                │ (<span style=\"color: #00d7ff; text-decoration-color: #00d7ff\">None</span>, <span style=\"color: #00af00; text-decoration-color: #00af00\">1</span>)              │            <span style=\"color: #00af00; text-decoration-color: #00af00\">23</span> │\n",
       "└─────────────────────────────────┴────────────────────────┴───────────────┘\n",
       "</pre>\n"
      ],
      "text/plain": [
       "┏━━━━━━━━━━━━━━━━━━━━━━━━━━━━━━━━━┳━━━━━━━━━━━━━━━━━━━━━━━━┳━━━━━━━━━━━━━━━┓\n",
       "┃\u001b[1m \u001b[0m\u001b[1mLayer (type)                   \u001b[0m\u001b[1m \u001b[0m┃\u001b[1m \u001b[0m\u001b[1mOutput Shape          \u001b[0m\u001b[1m \u001b[0m┃\u001b[1m \u001b[0m\u001b[1m      Param #\u001b[0m\u001b[1m \u001b[0m┃\n",
       "┡━━━━━━━━━━━━━━━━━━━━━━━━━━━━━━━━━╇━━━━━━━━━━━━━━━━━━━━━━━━╇━━━━━━━━━━━━━━━┩\n",
       "│ dense_13 (\u001b[38;5;33mDense\u001b[0m)                │ (\u001b[38;5;45mNone\u001b[0m, \u001b[38;5;34m176\u001b[0m)            │         \u001b[38;5;34m4,048\u001b[0m │\n",
       "├─────────────────────────────────┼────────────────────────┼───────────────┤\n",
       "│ dense_14 (\u001b[38;5;33mDense\u001b[0m)                │ (\u001b[38;5;45mNone\u001b[0m, \u001b[38;5;34m88\u001b[0m)             │        \u001b[38;5;34m15,576\u001b[0m │\n",
       "├─────────────────────────────────┼────────────────────────┼───────────────┤\n",
       "│ dense_15 (\u001b[38;5;33mDense\u001b[0m)                │ (\u001b[38;5;45mNone\u001b[0m, \u001b[38;5;34m44\u001b[0m)             │         \u001b[38;5;34m3,916\u001b[0m │\n",
       "├─────────────────────────────────┼────────────────────────┼───────────────┤\n",
       "│ dense_16 (\u001b[38;5;33mDense\u001b[0m)                │ (\u001b[38;5;45mNone\u001b[0m, \u001b[38;5;34m22\u001b[0m)             │           \u001b[38;5;34m990\u001b[0m │\n",
       "├─────────────────────────────────┼────────────────────────┼───────────────┤\n",
       "│ dense_17 (\u001b[38;5;33mDense\u001b[0m)                │ (\u001b[38;5;45mNone\u001b[0m, \u001b[38;5;34m1\u001b[0m)              │            \u001b[38;5;34m23\u001b[0m │\n",
       "└─────────────────────────────────┴────────────────────────┴───────────────┘\n"
      ]
     },
     "metadata": {},
     "output_type": "display_data"
    },
    {
     "data": {
      "text/html": [
       "<pre style=\"white-space:pre;overflow-x:auto;line-height:normal;font-family:Menlo,'DejaVu Sans Mono',consolas,'Courier New',monospace\"><span style=\"font-weight: bold\"> Total params: </span><span style=\"color: #00af00; text-decoration-color: #00af00\">24,553</span> (95.91 KB)\n",
       "</pre>\n"
      ],
      "text/plain": [
       "\u001b[1m Total params: \u001b[0m\u001b[38;5;34m24,553\u001b[0m (95.91 KB)\n"
      ]
     },
     "metadata": {},
     "output_type": "display_data"
    },
    {
     "data": {
      "text/html": [
       "<pre style=\"white-space:pre;overflow-x:auto;line-height:normal;font-family:Menlo,'DejaVu Sans Mono',consolas,'Courier New',monospace\"><span style=\"font-weight: bold\"> Trainable params: </span><span style=\"color: #00af00; text-decoration-color: #00af00\">24,553</span> (95.91 KB)\n",
       "</pre>\n"
      ],
      "text/plain": [
       "\u001b[1m Trainable params: \u001b[0m\u001b[38;5;34m24,553\u001b[0m (95.91 KB)\n"
      ]
     },
     "metadata": {},
     "output_type": "display_data"
    },
    {
     "data": {
      "text/html": [
       "<pre style=\"white-space:pre;overflow-x:auto;line-height:normal;font-family:Menlo,'DejaVu Sans Mono',consolas,'Courier New',monospace\"><span style=\"font-weight: bold\"> Non-trainable params: </span><span style=\"color: #00af00; text-decoration-color: #00af00\">0</span> (0.00 B)\n",
       "</pre>\n"
      ],
      "text/plain": [
       "\u001b[1m Non-trainable params: \u001b[0m\u001b[38;5;34m0\u001b[0m (0.00 B)\n"
      ]
     },
     "metadata": {},
     "output_type": "display_data"
    }
   ],
   "source": [
    "model_delta = keras.Sequential(name='Delta')\n",
    "\n",
    "model_delta.add(layers.Input(shape=(x_train.shape[1], )))\n",
    "model_delta.add(layers.Dense(22*8, activation='relu'))\n",
    "model_delta.add(layers.Dense(22*4, activation='relu'))\n",
    "model_delta.add(layers.Dense(22*2, activation='relu'))\n",
    "model_delta.add(layers.Dense(22, activation='relu'))\n",
    "model_delta.add(layers.Dense(1))\n",
    "\n",
    "model_delta.summary()"
   ]
  },
  {
   "cell_type": "code",
   "execution_count": 45,
   "id": "9e3648de",
   "metadata": {},
   "outputs": [],
   "source": [
    "model_delta.compile(loss='mse')"
   ]
  },
  {
   "cell_type": "markdown",
   "id": "3fa1855e",
   "metadata": {},
   "source": [
    "## Avaliação do modelo"
   ]
  },
  {
   "cell_type": "markdown",
   "id": "97d419be",
   "metadata": {},
   "source": [
    "Após o treinamento, o modelo foi avaliado utilizando as métricas:\n",
    "\n",
    "- Erro Quadrático Médio (MSE): Mede o erro médio ao quadrado entre os valores previstos e reais. Quanto menor, melhor.\n",
    "- Erro Absoluto Médio (MAE): Mede o erro médio absoluto entre os valores previstos e reais. Quanto menor, melhor.\n",
    "- R² (Coeficiente de Determinação): Mede o quanto o modelo explica da variabilidade dos dados. Varia de 0 a 1 (quanto mais próximo de 1, melhor).\n",
    "\n",
    "Os resultados mostraram os valores dessas métricas, permitindo analisar se o modelo está com desempenho satisfatório ou se precisa de ajustes (como mais dados, engenharia de atributos ou ajuste de hiperparâmetros).\n",
    "Além disso, foi gerado um gráfico de dispersão entre os valores reais e previstos, permitindo visualizar se o modelo está prevendo bem ou se há muitos desvios.\n",
    "\n",
    "Essas métricas são apropriadas para problemas de regressão, como é o caso do target 'totalFare'."
   ]
  },
  {
   "cell_type": "code",
   "execution_count": 46,
   "id": "4054552f",
   "metadata": {},
   "outputs": [
    {
     "name": "stdout",
     "output_type": "stream",
     "text": [
      "\u001b[1m3094/3094\u001b[0m \u001b[32m━━━━━━━━━━━━━━━━━━━━\u001b[0m\u001b[37m\u001b[0m \u001b[1m2s\u001b[0m 774us/step\n",
      "Erro Quadrático Médio (MSE): 23094.03297121408\n",
      "Erro Absoluto Médio (MAE): 97.14505614483498\n",
      "R²: 0.5578547963120993\n"
     ]
    },
    {
     "data": {
      "image/png": "[encoded data removed]",
      "text/plain": [
       "<Figure size 640x480 with 1 Axes>"
      ]
     },
     "metadata": {},
     "output_type": "display_data"
    }
   ],
   "source": [
    "y_pred = model_alfa.predict(x_test).flatten()\n",
    "\n",
    "# Avaliação\n",
    "print(\"Erro Quadrático Médio (MSE):\", mean_squared_error(y_test, y_pred))\n",
    "print(\"Erro Absoluto Médio (MAE):\", mean_absolute_error(y_test, y_pred))\n",
    "print(\"R²:\", r2_score(y_test, y_pred))\n",
    "\n",
    "# Resultados\n",
    "plt.scatter(y_test, y_pred, alpha=0.5)\n",
    "plt.xlabel(\"Valor Real\")\n",
    "plt.ylabel(\"Previsão\")\n",
    "plt.title(\"Real vs Previsão\")\n",
    "plt.show()"
   ]
  },
  {
   "cell_type": "markdown",
   "id": "02f6c0ff",
   "metadata": {},
   "source": [
    "O Gráfico de dispersão acima mostra a relação entre os valores reais e os valores previstos pelo modelo para o Alvo (Target).\n",
    "\n",
    "- Eixo X: Valores reais das tarifas aéreas (totalFare) do conjunto de teste.\n",
    "- Eixo Y: Valores previstos pelo modelo para essas mesmas amostras.\n",
    "\n",
    "Cada ponto representa uma amostra do conjunto de teste.\n",
    "Se o modelo fosse perfeito, todos os pontos estariam alinhados em uma linha reta de 45° (onde valor real = valor previsto).\n",
    "Quanto mais próximos dessa linha os pontos estiverem, melhor o desempenho do modelo.\n",
    "Se houver muita dispersão ou pontos distantes da linha, indica que o modelo está cometendo erros maiores nas previsões.\n",
    "\n",
    "Esse gráfico é útil para visualizar se o modelo está prevendo bem ou se há muitos desvios entre o real e o previsto."
   ]
  }
 ],
 "metadata": {
  "kernelspec": {
   "display_name": "Python 3",
   "language": "python",
   "name": "python3"
  },
  "language_info": {
   "codemirror_mode": {
    "name": "ipython",
    "version": 3
   },
   "file_extension": ".py",
   "mimetype": "text/x-python",
   "name": "python",
   "nbconvert_exporter": "python",
   "pygments_lexer": "ipython3",
   "version": "3.11.9"
  }
 },
 "nbformat": 4,
 "nbformat_minor": 5
}
