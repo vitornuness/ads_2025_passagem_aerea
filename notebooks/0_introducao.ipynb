{
 "cells": [
  {
   "cell_type": "markdown",
   "id": "b53c6669",
   "metadata": {},
   "source": [
    "# Informações do grupo"
   ]
  },
  {
   "cell_type": "markdown",
   "id": "50c4d9b9",
   "metadata": {},
   "source": [
    "## Participantes"
   ]
  },
  {
   "cell_type": "markdown",
   "id": "beaf1dd4",
   "metadata": {},
   "source": [
    "- Alex Henrique Pasquini\n",
    "- Luiz Fernando Ferreira do Carmo\n",
    "- Maycon de Oliveira Macedo\n",
    "- Vinicius Rainho Silva\n",
    "- Vitor Nunes da Silva"
   ]
  },
  {
   "cell_type": "markdown",
   "id": "13597add",
   "metadata": {},
   "source": [
    "# Informações do Dataset"
   ]
  },
  {
   "cell_type": "markdown",
   "id": "335c2d89",
   "metadata": {},
   "source": [
    "Dataset escolhido: [Flight Prices](https://www.kaggle.com/datasets/dilwong/flightprices)\n",
    "\n",
    "[Link para versão reduzida com 1 milhão de linhas.](https://colab.research.google.com/drive/1rPssuORueQFVY1yPLSo_aR5PHNwKQihn#scrollTo=N86aKpRpEn03)\n",
    "\n",
    "Este dataset foi escolhido com o intuito de conseguirmos uma previsão, dos preços de passagens aéreas."
   ]
  },
  {
   "cell_type": "markdown",
   "id": "449f6b4a",
   "metadata": {},
   "source": [
    "## Descrição do dataset"
   ]
  },
  {
   "cell_type": "markdown",
   "id": "f5dfe1ab",
   "metadata": {},
   "source": [
    "Esse conjunto de dados é um arquivo CSV em que cada linha é uma passagem comprável encontrada na Expedia entre 2022-04-16 e 2022-10-05, de/para os seguintes aeroportos: ATL, DFW, DEN, ORD, LAX, CLT, MIA, JFK, EWR, SFO, DTW, BOS, PHL, LGA, IAD, OAK.\n",
    "\n",
    "Definições de coluna:\n",
    "\n",
    "- legId: Um identificador para o voo.\n",
    "- searchDate: A data (AAAA-MM-DD) em que esse registro foi retirado da Expedia.\n",
    "- flightDate: A data (AAAA-MM-DD) do voo.\n",
    "- startingAirport: Código IATA de três caracteres do aeroporto para a localização inicial.\n",
    "- destinationAirport: Código IATA de três caracteres do aeroporto para o local de chegada.\n",
    "- fareBasisCode: O código da base tarifária.\n",
    "- travelDuration: A duração da viagem em horas e minutos.\n",
    "- elapsedDays: O número de dias decorridos (geralmente 0).\n",
    "- isBasicEconomy: Booleano que indica se o bilhete é da classe econômica básica.\n",
    "- isRefundable: Booleano para saber se a passagem é reembolsável.\n",
    "- isNonStop: Booleano para saber se o voo é sem escalas.\n",
    "- baseFare: O preço da passagem (em USD).\n",
    "- totalFare: O preço da passagem (em dólares americanos), incluindo impostos e outras taxas.\n",
    "- seatsRemaining: Número inteiro para o número de assentos restantes.\n",
    "- totalTravelDistance: A distância total da viagem em milhas. Esses dados às vezes estão faltando.\n",
    "- segmentsDepartureTimeEpochSeconds: Cadeia de caracteres que contém a hora de partida (hora Unix) para cada trecho da viagem. As entradas para cada trecho são separadas por '||'.\n",
    "- segmentsDepartureTimeRaw: cadeia de caracteres que contém a hora de partida (formato ISO 8601: AAAA-MM-DDThh:mm:ss.000±[hh]:00) para cada trecho da viagem. As entradas para cada uma das etapas são separadas por '||'.\n",
    "- segmentsArrivalTimeEpochSeconds: Cadeia de caracteres que contém a hora de chegada (hora Unix) de cada trecho da viagem. As entradas de cada trecho são separadas por '||'.\n",
    "- segmentsArrivalTimeRaw: cadeia de caracteres que contém a hora de chegada (formato ISO 8601: AAAA-MM-DDThh:mm:ss.000±[hh]:00) de cada trecho da viagem. As entradas para cada um dos trechos são separadas por '||'.\n",
    "- segmentsArrivalAirportCode: Cadeia de caracteres que contém o código IATA do aeroporto para o local de chegada de cada trecho da viagem. As entradas de cada trecho são separadas por '||'.\n",
    "- segmentsDepartureAirportCode: Cadeia de caracteres que contém o código IATA do aeroporto para o local de partida de cada trecho da viagem. As entradas para cada um dos trechos são separadas por '||'.\n",
    "- segmentsAirlineName: Cadeia de caracteres que contém o nome da companhia aérea que atende a cada trecho da viagem. As entradas de cada trecho são separadas por '||'.\n",
    "- segmentsAirlineCode: Cadeia de caracteres que contém o código de duas letras da companhia aérea que atende a cada trecho da viagem. As entradas para cada trecho são separadas por '||'.\n",
    "- segmentsEquipmentDescription: Cadeia de caracteres que contém o tipo de avião usado para cada trecho da viagem (por exemplo, \"Airbus A321\" ou \"Boeing 737-800\"). As entradas para cada trecho são separadas por '||'.\n",
    "- segmentsDurationInSeconds: Cadeia de caracteres que contém a duração do voo (em segundos) para cada trecho da viagem. As entradas de cada trecho são separadas por '||'.\n",
    "- segmentsDistance: Cadeia de caracteres que contém a distância percorrida (em milhas) para cada trecho da viagem. As entradas de cada trecho são separadas por '||'.\n",
    "- segmentsCabinCode: Cadeia de caracteres contendo a cabine para cada trecho da viagem (por exemplo, \"ônibus\"). As entradas de cada trecho são separadas por “||”.\n",
    "\n",
    "Traduzido com a versão gratuita do tradutor - DeepL.com"
   ]
  }
 ],
 "metadata": {
  "language_info": {
   "name": "python"
  }
 },
 "nbformat": 4,
 "nbformat_minor": 5
}
